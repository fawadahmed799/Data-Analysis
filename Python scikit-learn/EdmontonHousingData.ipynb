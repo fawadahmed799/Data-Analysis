{
 "cells": [
  {
   "cell_type": "code",
   "execution_count": 1,
   "metadata": {},
   "outputs": [],
   "source": [
    "import pandas as pd\n",
    "import seaborn as sns\n",
    "import matplotlib.pyplot as plt\n",
    "from sklearn.ensemble import RandomForestClassifier\n",
    "from sklearn.svm import SVC\n",
    "from sklearn import svm\n",
    "from sklearn.neural_network import MLPClassifier\n",
    "from sklearn.metrics import confusion_matrix, classification_report\n",
    "from sklearn.preprocessing import StandardScaler, LabelEncoder\n",
    "from sklearn.model_selection import train_test_split\n",
    "%matplotlib inline\n"
   ]
  },
  {
   "cell_type": "code",
   "execution_count": 2,
   "metadata": {},
   "outputs": [
    {
     "name": "stdout",
     "output_type": "stream",
     "text": [
      "          City      Price                     Address  Number_Beds  \\\n",
      "0      Toronto   779900.0       #318 -20 SOUTHPORT ST            3   \n",
      "1      Toronto   799999.0       #818 -60 SOUTHPORT ST            3   \n",
      "2      Toronto   799900.0     #714 -859 THE QUEENSWAY            2   \n",
      "3      Toronto  1200000.0            275 MORTIMER AVE            4   \n",
      "4      Toronto   668800.0       #420 -388 RICHMOND ST            1   \n",
      "...        ...        ...                         ...          ...   \n",
      "35763  Halifax   439900.0  301 60 Walter Havill Drive            2   \n",
      "35764  Halifax  6990000.0      1160 Rockcliffe Street            5   \n",
      "35765  Halifax   419900.0  212 60 Walter Havill Drive            2   \n",
      "35766  Halifax   949900.0           10 Idlewylde Road            3   \n",
      "35767  Halifax   592900.0     208 2842-2856 Gottingen            2   \n",
      "\n",
      "       Number_Baths     Province  Population  Latitude  Longitude  \\\n",
      "0                 2      Ontario     5647656   43.7417   -79.3733   \n",
      "1                 1      Ontario     5647656   43.7417   -79.3733   \n",
      "2                 2      Ontario     5647656   43.7417   -79.3733   \n",
      "3                 2      Ontario     5647656   43.7417   -79.3733   \n",
      "4                 1      Ontario     5647656   43.7417   -79.3733   \n",
      "...             ...          ...         ...       ...        ...   \n",
      "35763             2  Nova Scotia      431479   44.8857    63.1005   \n",
      "35764             5  Nova Scotia      431479   44.8857    63.1005   \n",
      "35765             2  Nova Scotia      431479   44.8857    63.1005   \n",
      "35766             1  Nova Scotia      431479   44.8857    63.1005   \n",
      "35767             1  Nova Scotia      431479   44.8857    63.1005   \n",
      "\n",
      "       Median_Family_Income  \n",
      "0                   97000.0  \n",
      "1                   97000.0  \n",
      "2                   97000.0  \n",
      "3                   97000.0  \n",
      "4                   97000.0  \n",
      "...                     ...  \n",
      "35763               86753.0  \n",
      "35764               86753.0  \n",
      "35765               86753.0  \n",
      "35766               86753.0  \n",
      "35767               86753.0  \n",
      "\n",
      "[35768 rows x 10 columns]\n"
     ]
    }
   ],
   "source": [
    "listing=pd.read_csv(r'C:\\Users\\fawad\\HouseListings.csv', encoding='latin-1')\n",
    "print(listing)"
   ]
  },
  {
   "cell_type": "markdown",
   "metadata": {},
   "source": [
    "# Exploratory Data Analysis"
   ]
  },
  {
   "cell_type": "code",
   "execution_count": 3,
   "metadata": {},
   "outputs": [
    {
     "data": {
      "text/html": [
       "<div>\n",
       "<style scoped>\n",
       "    .dataframe tbody tr th:only-of-type {\n",
       "        vertical-align: middle;\n",
       "    }\n",
       "\n",
       "    .dataframe tbody tr th {\n",
       "        vertical-align: top;\n",
       "    }\n",
       "\n",
       "    .dataframe thead th {\n",
       "        text-align: right;\n",
       "    }\n",
       "</style>\n",
       "<table border=\"1\" class=\"dataframe\">\n",
       "  <thead>\n",
       "    <tr style=\"text-align: right;\">\n",
       "      <th></th>\n",
       "      <th>City</th>\n",
       "      <th>Price</th>\n",
       "      <th>Address</th>\n",
       "      <th>Number_Beds</th>\n",
       "      <th>Number_Baths</th>\n",
       "      <th>Province</th>\n",
       "      <th>Population</th>\n",
       "      <th>Latitude</th>\n",
       "      <th>Longitude</th>\n",
       "      <th>Median_Family_Income</th>\n",
       "    </tr>\n",
       "  </thead>\n",
       "  <tbody>\n",
       "    <tr>\n",
       "      <th>0</th>\n",
       "      <td>Toronto</td>\n",
       "      <td>779900.0</td>\n",
       "      <td>#318 -20 SOUTHPORT ST</td>\n",
       "      <td>3</td>\n",
       "      <td>2</td>\n",
       "      <td>Ontario</td>\n",
       "      <td>5647656</td>\n",
       "      <td>43.7417</td>\n",
       "      <td>-79.3733</td>\n",
       "      <td>97000.0</td>\n",
       "    </tr>\n",
       "    <tr>\n",
       "      <th>1</th>\n",
       "      <td>Toronto</td>\n",
       "      <td>799999.0</td>\n",
       "      <td>#818 -60 SOUTHPORT ST</td>\n",
       "      <td>3</td>\n",
       "      <td>1</td>\n",
       "      <td>Ontario</td>\n",
       "      <td>5647656</td>\n",
       "      <td>43.7417</td>\n",
       "      <td>-79.3733</td>\n",
       "      <td>97000.0</td>\n",
       "    </tr>\n",
       "    <tr>\n",
       "      <th>2</th>\n",
       "      <td>Toronto</td>\n",
       "      <td>799900.0</td>\n",
       "      <td>#714 -859 THE QUEENSWAY</td>\n",
       "      <td>2</td>\n",
       "      <td>2</td>\n",
       "      <td>Ontario</td>\n",
       "      <td>5647656</td>\n",
       "      <td>43.7417</td>\n",
       "      <td>-79.3733</td>\n",
       "      <td>97000.0</td>\n",
       "    </tr>\n",
       "    <tr>\n",
       "      <th>3</th>\n",
       "      <td>Toronto</td>\n",
       "      <td>1200000.0</td>\n",
       "      <td>275 MORTIMER AVE</td>\n",
       "      <td>4</td>\n",
       "      <td>2</td>\n",
       "      <td>Ontario</td>\n",
       "      <td>5647656</td>\n",
       "      <td>43.7417</td>\n",
       "      <td>-79.3733</td>\n",
       "      <td>97000.0</td>\n",
       "    </tr>\n",
       "    <tr>\n",
       "      <th>4</th>\n",
       "      <td>Toronto</td>\n",
       "      <td>668800.0</td>\n",
       "      <td>#420 -388 RICHMOND ST</td>\n",
       "      <td>1</td>\n",
       "      <td>1</td>\n",
       "      <td>Ontario</td>\n",
       "      <td>5647656</td>\n",
       "      <td>43.7417</td>\n",
       "      <td>-79.3733</td>\n",
       "      <td>97000.0</td>\n",
       "    </tr>\n",
       "  </tbody>\n",
       "</table>\n",
       "</div>"
      ],
      "text/plain": [
       "      City      Price                  Address  Number_Beds  Number_Baths  \\\n",
       "0  Toronto   779900.0    #318 -20 SOUTHPORT ST            3             2   \n",
       "1  Toronto   799999.0    #818 -60 SOUTHPORT ST            3             1   \n",
       "2  Toronto   799900.0  #714 -859 THE QUEENSWAY            2             2   \n",
       "3  Toronto  1200000.0         275 MORTIMER AVE            4             2   \n",
       "4  Toronto   668800.0    #420 -388 RICHMOND ST            1             1   \n",
       "\n",
       "  Province  Population  Latitude  Longitude  Median_Family_Income  \n",
       "0  Ontario     5647656   43.7417   -79.3733               97000.0  \n",
       "1  Ontario     5647656   43.7417   -79.3733               97000.0  \n",
       "2  Ontario     5647656   43.7417   -79.3733               97000.0  \n",
       "3  Ontario     5647656   43.7417   -79.3733               97000.0  \n",
       "4  Ontario     5647656   43.7417   -79.3733               97000.0  "
      ]
     },
     "execution_count": 3,
     "metadata": {},
     "output_type": "execute_result"
    }
   ],
   "source": [
    "listing.head()"
   ]
  },
  {
   "cell_type": "code",
   "execution_count": 4,
   "metadata": {},
   "outputs": [
    {
     "name": "stdout",
     "output_type": "stream",
     "text": [
      "<class 'pandas.core.frame.DataFrame'>\n",
      "RangeIndex: 35768 entries, 0 to 35767\n",
      "Data columns (total 10 columns):\n",
      " #   Column                Non-Null Count  Dtype  \n",
      "---  ------                --------------  -----  \n",
      " 0   City                  35768 non-null  object \n",
      " 1   Price                 35768 non-null  float64\n",
      " 2   Address               35768 non-null  object \n",
      " 3   Number_Beds           35768 non-null  int64  \n",
      " 4   Number_Baths          35768 non-null  int64  \n",
      " 5   Province              35768 non-null  object \n",
      " 6   Population            35768 non-null  int64  \n",
      " 7   Latitude              35768 non-null  float64\n",
      " 8   Longitude             35768 non-null  float64\n",
      " 9   Median_Family_Income  35768 non-null  float64\n",
      "dtypes: float64(4), int64(3), object(3)\n",
      "memory usage: 2.7+ MB\n"
     ]
    }
   ],
   "source": [
    "listing.info()"
   ]
  },
  {
   "cell_type": "code",
   "execution_count": 5,
   "metadata": {},
   "outputs": [
    {
     "data": {
      "text/html": [
       "<div>\n",
       "<style scoped>\n",
       "    .dataframe tbody tr th:only-of-type {\n",
       "        vertical-align: middle;\n",
       "    }\n",
       "\n",
       "    .dataframe tbody tr th {\n",
       "        vertical-align: top;\n",
       "    }\n",
       "\n",
       "    .dataframe thead th {\n",
       "        text-align: right;\n",
       "    }\n",
       "</style>\n",
       "<table border=\"1\" class=\"dataframe\">\n",
       "  <thead>\n",
       "    <tr style=\"text-align: right;\">\n",
       "      <th></th>\n",
       "      <th>Price</th>\n",
       "      <th>Number_Beds</th>\n",
       "      <th>Number_Baths</th>\n",
       "      <th>Population</th>\n",
       "      <th>Latitude</th>\n",
       "      <th>Longitude</th>\n",
       "      <th>Median_Family_Income</th>\n",
       "    </tr>\n",
       "  </thead>\n",
       "  <tbody>\n",
       "    <tr>\n",
       "      <th>count</th>\n",
       "      <td>3.576800e+04</td>\n",
       "      <td>35768.000000</td>\n",
       "      <td>35768.000000</td>\n",
       "      <td>3.576800e+04</td>\n",
       "      <td>35768.000000</td>\n",
       "      <td>35768.000000</td>\n",
       "      <td>35768.000000</td>\n",
       "    </tr>\n",
       "    <tr>\n",
       "      <th>mean</th>\n",
       "      <td>9.432963e+05</td>\n",
       "      <td>3.283661</td>\n",
       "      <td>2.532403</td>\n",
       "      <td>6.360151e+05</td>\n",
       "      <td>47.446556</td>\n",
       "      <td>-98.421636</td>\n",
       "      <td>89643.103416</td>\n",
       "    </tr>\n",
       "    <tr>\n",
       "      <th>std</th>\n",
       "      <td>1.020110e+06</td>\n",
       "      <td>1.730654</td>\n",
       "      <td>1.371910</td>\n",
       "      <td>1.120016e+06</td>\n",
       "      <td>3.333855</td>\n",
       "      <td>22.280935</td>\n",
       "      <td>12132.353510</td>\n",
       "    </tr>\n",
       "    <tr>\n",
       "      <th>min</th>\n",
       "      <td>2.150000e+04</td>\n",
       "      <td>0.000000</td>\n",
       "      <td>0.000000</td>\n",
       "      <td>6.338200e+04</td>\n",
       "      <td>42.283300</td>\n",
       "      <td>-123.936400</td>\n",
       "      <td>62400.000000</td>\n",
       "    </tr>\n",
       "    <tr>\n",
       "      <th>25%</th>\n",
       "      <td>4.599000e+05</td>\n",
       "      <td>2.000000</td>\n",
       "      <td>2.000000</td>\n",
       "      <td>1.091670e+05</td>\n",
       "      <td>43.866700</td>\n",
       "      <td>-122.316700</td>\n",
       "      <td>82000.000000</td>\n",
       "    </tr>\n",
       "    <tr>\n",
       "      <th>50%</th>\n",
       "      <td>6.990000e+05</td>\n",
       "      <td>3.000000</td>\n",
       "      <td>2.000000</td>\n",
       "      <td>2.424600e+05</td>\n",
       "      <td>49.025000</td>\n",
       "      <td>-104.606700</td>\n",
       "      <td>89000.000000</td>\n",
       "    </tr>\n",
       "    <tr>\n",
       "      <th>75%</th>\n",
       "      <td>1.095000e+06</td>\n",
       "      <td>4.000000</td>\n",
       "      <td>3.000000</td>\n",
       "      <td>5.228880e+05</td>\n",
       "      <td>49.888100</td>\n",
       "      <td>-79.866700</td>\n",
       "      <td>97000.000000</td>\n",
       "    </tr>\n",
       "    <tr>\n",
       "      <th>max</th>\n",
       "      <td>3.700000e+07</td>\n",
       "      <td>109.000000</td>\n",
       "      <td>59.000000</td>\n",
       "      <td>5.647656e+06</td>\n",
       "      <td>53.916900</td>\n",
       "      <td>63.100500</td>\n",
       "      <td>133000.000000</td>\n",
       "    </tr>\n",
       "  </tbody>\n",
       "</table>\n",
       "</div>"
      ],
      "text/plain": [
       "              Price   Number_Beds  Number_Baths    Population      Latitude  \\\n",
       "count  3.576800e+04  35768.000000  35768.000000  3.576800e+04  35768.000000   \n",
       "mean   9.432963e+05      3.283661      2.532403  6.360151e+05     47.446556   \n",
       "std    1.020110e+06      1.730654      1.371910  1.120016e+06      3.333855   \n",
       "min    2.150000e+04      0.000000      0.000000  6.338200e+04     42.283300   \n",
       "25%    4.599000e+05      2.000000      2.000000  1.091670e+05     43.866700   \n",
       "50%    6.990000e+05      3.000000      2.000000  2.424600e+05     49.025000   \n",
       "75%    1.095000e+06      4.000000      3.000000  5.228880e+05     49.888100   \n",
       "max    3.700000e+07    109.000000     59.000000  5.647656e+06     53.916900   \n",
       "\n",
       "          Longitude  Median_Family_Income  \n",
       "count  35768.000000          35768.000000  \n",
       "mean     -98.421636          89643.103416  \n",
       "std       22.280935          12132.353510  \n",
       "min     -123.936400          62400.000000  \n",
       "25%     -122.316700          82000.000000  \n",
       "50%     -104.606700          89000.000000  \n",
       "75%      -79.866700          97000.000000  \n",
       "max       63.100500         133000.000000  "
      ]
     },
     "execution_count": 5,
     "metadata": {},
     "output_type": "execute_result"
    }
   ],
   "source": [
    "listing.describe()"
   ]
  },
  {
   "cell_type": "code",
   "execution_count": 6,
   "metadata": {},
   "outputs": [
    {
     "name": "stdout",
     "output_type": "stream",
     "text": [
      "\n",
      "Missing values in each column:\n"
     ]
    },
    {
     "data": {
      "text/plain": [
       "City                    0\n",
       "Price                   0\n",
       "Address                 0\n",
       "Number_Beds             0\n",
       "Number_Baths            0\n",
       "Province                0\n",
       "Population              0\n",
       "Latitude                0\n",
       "Longitude               0\n",
       "Median_Family_Income    0\n",
       "dtype: int64"
      ]
     },
     "metadata": {},
     "output_type": "display_data"
    }
   ],
   "source": [
    "# Check for missing values\n",
    "missing_values = listing.isnull().sum()\n",
    "print(\"\\nMissing values in each column:\")\n",
    "display(missing_values)"
   ]
  },
  {
   "cell_type": "code",
   "execution_count": 7,
   "metadata": {},
   "outputs": [
    {
     "name": "stdout",
     "output_type": "stream",
     "text": [
      "\n",
      "Unique values in each column:\n",
      "City: 45 unique values\n",
      "Price: 4366 unique values\n",
      "Address: 31379 unique values\n",
      "Number_Beds: 31 unique values\n",
      "Number_Baths: 22 unique values\n",
      "Province: 9 unique values\n",
      "Population: 45 unique values\n",
      "Latitude: 45 unique values\n",
      "Longitude: 44 unique values\n",
      "Median_Family_Income: 32 unique values\n"
     ]
    }
   ],
   "source": [
    "print(\"\\nUnique values in each column:\")\n",
    "for column in listing.columns:\n",
    "    print(f\"{column}: {listing[column].nunique()} unique values\")"
   ]
  },
  {
   "cell_type": "code",
   "execution_count": 8,
   "metadata": {},
   "outputs": [
    {
     "name": "stdout",
     "output_type": "stream",
     "text": [
      "          City     Price              Address  Number_Beds  Number_Baths  \\\n",
      "3926  Edmonton  460000.0       9312 82 Street            3             2   \n",
      "3927  Edmonton  419000.0      3412 138 Avenue            4             3   \n",
      "3928  Edmonton  359000.0   40-9718 176 Street            4             3   \n",
      "3929  Edmonton  499900.0     16108 78A Avenue            4             3   \n",
      "3930  Edmonton  379500.0     19056 72A Avenue            4             3   \n",
      "...        ...       ...                  ...          ...           ...   \n",
      "5272  Edmonton  585000.0     10615 134 Street            4             2   \n",
      "5273  Edmonton  829000.0  213-10116 80 Avenue            2             2   \n",
      "5274  Edmonton  259000.0  202-10524 29 Avenue            2             1   \n",
      "5275  Edmonton  245000.0       7308 86 Avenue            5             3   \n",
      "5276  Edmonton  124888.0      12109 87 Street            2             2   \n",
      "\n",
      "     Province  Population  Latitude  Longitude  Median_Family_Income  \n",
      "3926  Alberta     1151635   53.5344  -113.4903               96000.0  \n",
      "3927  Alberta     1151635   53.5344  -113.4903               96000.0  \n",
      "3928  Alberta     1151635   53.5344  -113.4903               96000.0  \n",
      "3929  Alberta     1151635   53.5344  -113.4903               96000.0  \n",
      "3930  Alberta     1151635   53.5344  -113.4903               96000.0  \n",
      "...       ...         ...       ...        ...                   ...  \n",
      "5272  Alberta     1151635   53.5344  -113.4903               96000.0  \n",
      "5273  Alberta     1151635   53.5344  -113.4903               96000.0  \n",
      "5274  Alberta     1151635   53.5344  -113.4903               96000.0  \n",
      "5275  Alberta     1151635   53.5344  -113.4903               96000.0  \n",
      "5276  Alberta     1151635   53.5344  -113.4903               96000.0  \n",
      "\n",
      "[1351 rows x 10 columns]\n"
     ]
    }
   ],
   "source": [
    "print(listing[listing['City'] == 'Edmonton'])"
   ]
  },
  {
   "cell_type": "markdown",
   "metadata": {},
   "source": [
    "# Edmonton House Prices Analysis"
   ]
  },
  {
   "cell_type": "code",
   "execution_count": 9,
   "metadata": {},
   "outputs": [],
   "source": [
    "Edmonton_listings=listing[listing['City'] == 'Edmonton']"
   ]
  },
  {
   "cell_type": "code",
   "execution_count": 10,
   "metadata": {},
   "outputs": [
    {
     "data": {
      "text/html": [
       "<div>\n",
       "<style scoped>\n",
       "    .dataframe tbody tr th:only-of-type {\n",
       "        vertical-align: middle;\n",
       "    }\n",
       "\n",
       "    .dataframe tbody tr th {\n",
       "        vertical-align: top;\n",
       "    }\n",
       "\n",
       "    .dataframe thead th {\n",
       "        text-align: right;\n",
       "    }\n",
       "</style>\n",
       "<table border=\"1\" class=\"dataframe\">\n",
       "  <thead>\n",
       "    <tr style=\"text-align: right;\">\n",
       "      <th></th>\n",
       "      <th>City</th>\n",
       "      <th>Price</th>\n",
       "      <th>Address</th>\n",
       "      <th>Number_Beds</th>\n",
       "      <th>Number_Baths</th>\n",
       "      <th>Province</th>\n",
       "      <th>Population</th>\n",
       "      <th>Latitude</th>\n",
       "      <th>Longitude</th>\n",
       "      <th>Median_Family_Income</th>\n",
       "    </tr>\n",
       "  </thead>\n",
       "  <tbody>\n",
       "    <tr>\n",
       "      <th>3926</th>\n",
       "      <td>Edmonton</td>\n",
       "      <td>460000.0</td>\n",
       "      <td>9312 82 Street</td>\n",
       "      <td>3</td>\n",
       "      <td>2</td>\n",
       "      <td>Alberta</td>\n",
       "      <td>1151635</td>\n",
       "      <td>53.5344</td>\n",
       "      <td>-113.4903</td>\n",
       "      <td>96000.0</td>\n",
       "    </tr>\n",
       "    <tr>\n",
       "      <th>3927</th>\n",
       "      <td>Edmonton</td>\n",
       "      <td>419000.0</td>\n",
       "      <td>3412 138 Avenue</td>\n",
       "      <td>4</td>\n",
       "      <td>3</td>\n",
       "      <td>Alberta</td>\n",
       "      <td>1151635</td>\n",
       "      <td>53.5344</td>\n",
       "      <td>-113.4903</td>\n",
       "      <td>96000.0</td>\n",
       "    </tr>\n",
       "    <tr>\n",
       "      <th>3928</th>\n",
       "      <td>Edmonton</td>\n",
       "      <td>359000.0</td>\n",
       "      <td>40-9718 176 Street</td>\n",
       "      <td>4</td>\n",
       "      <td>3</td>\n",
       "      <td>Alberta</td>\n",
       "      <td>1151635</td>\n",
       "      <td>53.5344</td>\n",
       "      <td>-113.4903</td>\n",
       "      <td>96000.0</td>\n",
       "    </tr>\n",
       "    <tr>\n",
       "      <th>3929</th>\n",
       "      <td>Edmonton</td>\n",
       "      <td>499900.0</td>\n",
       "      <td>16108 78A Avenue</td>\n",
       "      <td>4</td>\n",
       "      <td>3</td>\n",
       "      <td>Alberta</td>\n",
       "      <td>1151635</td>\n",
       "      <td>53.5344</td>\n",
       "      <td>-113.4903</td>\n",
       "      <td>96000.0</td>\n",
       "    </tr>\n",
       "    <tr>\n",
       "      <th>3930</th>\n",
       "      <td>Edmonton</td>\n",
       "      <td>379500.0</td>\n",
       "      <td>19056 72A Avenue</td>\n",
       "      <td>4</td>\n",
       "      <td>3</td>\n",
       "      <td>Alberta</td>\n",
       "      <td>1151635</td>\n",
       "      <td>53.5344</td>\n",
       "      <td>-113.4903</td>\n",
       "      <td>96000.0</td>\n",
       "    </tr>\n",
       "  </tbody>\n",
       "</table>\n",
       "</div>"
      ],
      "text/plain": [
       "          City     Price             Address  Number_Beds  Number_Baths  \\\n",
       "3926  Edmonton  460000.0      9312 82 Street            3             2   \n",
       "3927  Edmonton  419000.0     3412 138 Avenue            4             3   \n",
       "3928  Edmonton  359000.0  40-9718 176 Street            4             3   \n",
       "3929  Edmonton  499900.0    16108 78A Avenue            4             3   \n",
       "3930  Edmonton  379500.0    19056 72A Avenue            4             3   \n",
       "\n",
       "     Province  Population  Latitude  Longitude  Median_Family_Income  \n",
       "3926  Alberta     1151635   53.5344  -113.4903               96000.0  \n",
       "3927  Alberta     1151635   53.5344  -113.4903               96000.0  \n",
       "3928  Alberta     1151635   53.5344  -113.4903               96000.0  \n",
       "3929  Alberta     1151635   53.5344  -113.4903               96000.0  \n",
       "3930  Alberta     1151635   53.5344  -113.4903               96000.0  "
      ]
     },
     "execution_count": 10,
     "metadata": {},
     "output_type": "execute_result"
    }
   ],
   "source": [
    "Edmonton_listings.head()"
   ]
  },
  {
   "cell_type": "code",
   "execution_count": 11,
   "metadata": {},
   "outputs": [],
   "source": [
    "#For the sake of simplicity, we will just keep the columns price, number_beds and number_baths. Later, we will use ML techniques to predict the house price based on number of beds and baths.\n",
    "Edmonton_listings=Edmonton_listings.drop(['City','Province','Address','Population','Latitude','Longitude','Median_Family_Income'],axis=1)"
   ]
  },
  {
   "cell_type": "code",
   "execution_count": 12,
   "metadata": {},
   "outputs": [
    {
     "data": {
      "text/html": [
       "<div>\n",
       "<style scoped>\n",
       "    .dataframe tbody tr th:only-of-type {\n",
       "        vertical-align: middle;\n",
       "    }\n",
       "\n",
       "    .dataframe tbody tr th {\n",
       "        vertical-align: top;\n",
       "    }\n",
       "\n",
       "    .dataframe thead th {\n",
       "        text-align: right;\n",
       "    }\n",
       "</style>\n",
       "<table border=\"1\" class=\"dataframe\">\n",
       "  <thead>\n",
       "    <tr style=\"text-align: right;\">\n",
       "      <th></th>\n",
       "      <th>Price</th>\n",
       "      <th>Number_Beds</th>\n",
       "      <th>Number_Baths</th>\n",
       "    </tr>\n",
       "  </thead>\n",
       "  <tbody>\n",
       "    <tr>\n",
       "      <th>3926</th>\n",
       "      <td>460000.0</td>\n",
       "      <td>3</td>\n",
       "      <td>2</td>\n",
       "    </tr>\n",
       "    <tr>\n",
       "      <th>3927</th>\n",
       "      <td>419000.0</td>\n",
       "      <td>4</td>\n",
       "      <td>3</td>\n",
       "    </tr>\n",
       "    <tr>\n",
       "      <th>3928</th>\n",
       "      <td>359000.0</td>\n",
       "      <td>4</td>\n",
       "      <td>3</td>\n",
       "    </tr>\n",
       "    <tr>\n",
       "      <th>3929</th>\n",
       "      <td>499900.0</td>\n",
       "      <td>4</td>\n",
       "      <td>3</td>\n",
       "    </tr>\n",
       "    <tr>\n",
       "      <th>3930</th>\n",
       "      <td>379500.0</td>\n",
       "      <td>4</td>\n",
       "      <td>3</td>\n",
       "    </tr>\n",
       "  </tbody>\n",
       "</table>\n",
       "</div>"
      ],
      "text/plain": [
       "         Price  Number_Beds  Number_Baths\n",
       "3926  460000.0            3             2\n",
       "3927  419000.0            4             3\n",
       "3928  359000.0            4             3\n",
       "3929  499900.0            4             3\n",
       "3930  379500.0            4             3"
      ]
     },
     "execution_count": 12,
     "metadata": {},
     "output_type": "execute_result"
    }
   ],
   "source": [
    "Edmonton_listings.head()"
   ]
  },
  {
   "cell_type": "code",
   "execution_count": 13,
   "metadata": {},
   "outputs": [
    {
     "data": {
      "text/html": [
       "<div>\n",
       "<style scoped>\n",
       "    .dataframe tbody tr th:only-of-type {\n",
       "        vertical-align: middle;\n",
       "    }\n",
       "\n",
       "    .dataframe tbody tr th {\n",
       "        vertical-align: top;\n",
       "    }\n",
       "\n",
       "    .dataframe thead th {\n",
       "        text-align: right;\n",
       "    }\n",
       "</style>\n",
       "<table border=\"1\" class=\"dataframe\">\n",
       "  <thead>\n",
       "    <tr style=\"text-align: right;\">\n",
       "      <th></th>\n",
       "      <th>Price</th>\n",
       "      <th>Number_Beds</th>\n",
       "      <th>Number_Baths</th>\n",
       "    </tr>\n",
       "  </thead>\n",
       "  <tbody>\n",
       "    <tr>\n",
       "      <th>count</th>\n",
       "      <td>1.351000e+03</td>\n",
       "      <td>1351.000000</td>\n",
       "      <td>1351.000000</td>\n",
       "    </tr>\n",
       "    <tr>\n",
       "      <th>mean</th>\n",
       "      <td>4.255820e+05</td>\n",
       "      <td>3.037750</td>\n",
       "      <td>2.290896</td>\n",
       "    </tr>\n",
       "    <tr>\n",
       "      <th>std</th>\n",
       "      <td>3.523534e+05</td>\n",
       "      <td>1.444036</td>\n",
       "      <td>1.136166</td>\n",
       "    </tr>\n",
       "    <tr>\n",
       "      <th>min</th>\n",
       "      <td>5.590000e+04</td>\n",
       "      <td>0.000000</td>\n",
       "      <td>0.000000</td>\n",
       "    </tr>\n",
       "    <tr>\n",
       "      <th>25%</th>\n",
       "      <td>2.180000e+05</td>\n",
       "      <td>2.000000</td>\n",
       "      <td>2.000000</td>\n",
       "    </tr>\n",
       "    <tr>\n",
       "      <th>50%</th>\n",
       "      <td>3.499000e+05</td>\n",
       "      <td>3.000000</td>\n",
       "      <td>2.000000</td>\n",
       "    </tr>\n",
       "    <tr>\n",
       "      <th>75%</th>\n",
       "      <td>4.999000e+05</td>\n",
       "      <td>4.000000</td>\n",
       "      <td>3.000000</td>\n",
       "    </tr>\n",
       "    <tr>\n",
       "      <th>max</th>\n",
       "      <td>4.463445e+06</td>\n",
       "      <td>9.000000</td>\n",
       "      <td>12.000000</td>\n",
       "    </tr>\n",
       "  </tbody>\n",
       "</table>\n",
       "</div>"
      ],
      "text/plain": [
       "              Price  Number_Beds  Number_Baths\n",
       "count  1.351000e+03  1351.000000   1351.000000\n",
       "mean   4.255820e+05     3.037750      2.290896\n",
       "std    3.523534e+05     1.444036      1.136166\n",
       "min    5.590000e+04     0.000000      0.000000\n",
       "25%    2.180000e+05     2.000000      2.000000\n",
       "50%    3.499000e+05     3.000000      2.000000\n",
       "75%    4.999000e+05     4.000000      3.000000\n",
       "max    4.463445e+06     9.000000     12.000000"
      ]
     },
     "execution_count": 13,
     "metadata": {},
     "output_type": "execute_result"
    }
   ],
   "source": [
    "Edmonton_listings.describe()"
   ]
  },
  {
   "cell_type": "code",
   "execution_count": 14,
   "metadata": {},
   "outputs": [],
   "source": [
    "Edmonton_listings = Edmonton_listings.dropna(subset=['Price'])"
   ]
  },
  {
   "cell_type": "code",
   "execution_count": 15,
   "metadata": {},
   "outputs": [],
   "source": [
    "Edmonton_listings['Price'] = Edmonton_listings['Price'].astype(int)"
   ]
  },
  {
   "cell_type": "code",
   "execution_count": 16,
   "metadata": {},
   "outputs": [
    {
     "data": {
      "text/html": [
       "<div>\n",
       "<style scoped>\n",
       "    .dataframe tbody tr th:only-of-type {\n",
       "        vertical-align: middle;\n",
       "    }\n",
       "\n",
       "    .dataframe tbody tr th {\n",
       "        vertical-align: top;\n",
       "    }\n",
       "\n",
       "    .dataframe thead th {\n",
       "        text-align: right;\n",
       "    }\n",
       "</style>\n",
       "<table border=\"1\" class=\"dataframe\">\n",
       "  <thead>\n",
       "    <tr style=\"text-align: right;\">\n",
       "      <th></th>\n",
       "      <th>Price</th>\n",
       "      <th>Number_Beds</th>\n",
       "      <th>Number_Baths</th>\n",
       "    </tr>\n",
       "  </thead>\n",
       "  <tbody>\n",
       "    <tr>\n",
       "      <th>3926</th>\n",
       "      <td>460000</td>\n",
       "      <td>3</td>\n",
       "      <td>2</td>\n",
       "    </tr>\n",
       "    <tr>\n",
       "      <th>3927</th>\n",
       "      <td>419000</td>\n",
       "      <td>4</td>\n",
       "      <td>3</td>\n",
       "    </tr>\n",
       "    <tr>\n",
       "      <th>3928</th>\n",
       "      <td>359000</td>\n",
       "      <td>4</td>\n",
       "      <td>3</td>\n",
       "    </tr>\n",
       "    <tr>\n",
       "      <th>3929</th>\n",
       "      <td>499900</td>\n",
       "      <td>4</td>\n",
       "      <td>3</td>\n",
       "    </tr>\n",
       "    <tr>\n",
       "      <th>3930</th>\n",
       "      <td>379500</td>\n",
       "      <td>4</td>\n",
       "      <td>3</td>\n",
       "    </tr>\n",
       "  </tbody>\n",
       "</table>\n",
       "</div>"
      ],
      "text/plain": [
       "       Price  Number_Beds  Number_Baths\n",
       "3926  460000            3             2\n",
       "3927  419000            4             3\n",
       "3928  359000            4             3\n",
       "3929  499900            4             3\n",
       "3930  379500            4             3"
      ]
     },
     "execution_count": 16,
     "metadata": {},
     "output_type": "execute_result"
    }
   ],
   "source": [
    "Edmonton_listings.head()"
   ]
  },
  {
   "cell_type": "code",
   "execution_count": 17,
   "metadata": {},
   "outputs": [
    {
     "data": {
      "text/plain": [
       "[high_affordibility, low_affordibility, NaN]\n",
       "Categories (2, object): [high_affordibility < low_affordibility]"
      ]
     },
     "execution_count": 17,
     "metadata": {},
     "output_type": "execute_result"
    }
   ],
   "source": [
    "# Creating 2 bins based on price, 1st bin=300000-700000, 2nd bin: 700000-5000000.\n",
    "# We will use the 1st bin as high_affordibility option and the 2nd bin as low_affordibility.\n",
    "\n",
    "bins=(300000,700000,5000000)\n",
    "group_names=['high_affordibility','low_affordibility']\n",
    "Edmonton_listings['Price']=pd.cut(Edmonton_listings['Price'], bins= bins, labels=group_names)\n",
    "Edmonton_listings['Price'].unique()"
   ]
  },
  {
   "cell_type": "code",
   "execution_count": 18,
   "metadata": {},
   "outputs": [],
   "source": [
    "label_price=LabelEncoder()"
   ]
  },
  {
   "cell_type": "code",
   "execution_count": 19,
   "metadata": {},
   "outputs": [],
   "source": [
    "Edmonton_listings = Edmonton_listings.dropna(subset=['Price'])"
   ]
  },
  {
   "cell_type": "code",
   "execution_count": 20,
   "metadata": {},
   "outputs": [],
   "source": [
    "Edmonton_listings['Price']=label_price.fit_transform(Edmonton_listings['Price'])"
   ]
  },
  {
   "cell_type": "code",
   "execution_count": 21,
   "metadata": {},
   "outputs": [
    {
     "data": {
      "text/html": [
       "<div>\n",
       "<style scoped>\n",
       "    .dataframe tbody tr th:only-of-type {\n",
       "        vertical-align: middle;\n",
       "    }\n",
       "\n",
       "    .dataframe tbody tr th {\n",
       "        vertical-align: top;\n",
       "    }\n",
       "\n",
       "    .dataframe thead th {\n",
       "        text-align: right;\n",
       "    }\n",
       "</style>\n",
       "<table border=\"1\" class=\"dataframe\">\n",
       "  <thead>\n",
       "    <tr style=\"text-align: right;\">\n",
       "      <th></th>\n",
       "      <th>Price</th>\n",
       "      <th>Number_Beds</th>\n",
       "      <th>Number_Baths</th>\n",
       "    </tr>\n",
       "  </thead>\n",
       "  <tbody>\n",
       "    <tr>\n",
       "      <th>3926</th>\n",
       "      <td>0</td>\n",
       "      <td>3</td>\n",
       "      <td>2</td>\n",
       "    </tr>\n",
       "    <tr>\n",
       "      <th>3927</th>\n",
       "      <td>0</td>\n",
       "      <td>4</td>\n",
       "      <td>3</td>\n",
       "    </tr>\n",
       "    <tr>\n",
       "      <th>3928</th>\n",
       "      <td>0</td>\n",
       "      <td>4</td>\n",
       "      <td>3</td>\n",
       "    </tr>\n",
       "    <tr>\n",
       "      <th>3929</th>\n",
       "      <td>0</td>\n",
       "      <td>4</td>\n",
       "      <td>3</td>\n",
       "    </tr>\n",
       "    <tr>\n",
       "      <th>3930</th>\n",
       "      <td>0</td>\n",
       "      <td>4</td>\n",
       "      <td>3</td>\n",
       "    </tr>\n",
       "    <tr>\n",
       "      <th>3931</th>\n",
       "      <td>0</td>\n",
       "      <td>4</td>\n",
       "      <td>2</td>\n",
       "    </tr>\n",
       "    <tr>\n",
       "      <th>3932</th>\n",
       "      <td>1</td>\n",
       "      <td>2</td>\n",
       "      <td>2</td>\n",
       "    </tr>\n",
       "    <tr>\n",
       "      <th>3933</th>\n",
       "      <td>0</td>\n",
       "      <td>3</td>\n",
       "      <td>3</td>\n",
       "    </tr>\n",
       "    <tr>\n",
       "      <th>3935</th>\n",
       "      <td>0</td>\n",
       "      <td>3</td>\n",
       "      <td>2</td>\n",
       "    </tr>\n",
       "    <tr>\n",
       "      <th>3936</th>\n",
       "      <td>0</td>\n",
       "      <td>3</td>\n",
       "      <td>3</td>\n",
       "    </tr>\n",
       "    <tr>\n",
       "      <th>3937</th>\n",
       "      <td>0</td>\n",
       "      <td>4</td>\n",
       "      <td>2</td>\n",
       "    </tr>\n",
       "    <tr>\n",
       "      <th>3938</th>\n",
       "      <td>0</td>\n",
       "      <td>5</td>\n",
       "      <td>4</td>\n",
       "    </tr>\n",
       "    <tr>\n",
       "      <th>3939</th>\n",
       "      <td>0</td>\n",
       "      <td>5</td>\n",
       "      <td>4</td>\n",
       "    </tr>\n",
       "    <tr>\n",
       "      <th>3941</th>\n",
       "      <td>0</td>\n",
       "      <td>5</td>\n",
       "      <td>3</td>\n",
       "    </tr>\n",
       "    <tr>\n",
       "      <th>3943</th>\n",
       "      <td>0</td>\n",
       "      <td>2</td>\n",
       "      <td>1</td>\n",
       "    </tr>\n",
       "    <tr>\n",
       "      <th>3944</th>\n",
       "      <td>0</td>\n",
       "      <td>4</td>\n",
       "      <td>4</td>\n",
       "    </tr>\n",
       "    <tr>\n",
       "      <th>3945</th>\n",
       "      <td>0</td>\n",
       "      <td>4</td>\n",
       "      <td>2</td>\n",
       "    </tr>\n",
       "    <tr>\n",
       "      <th>3948</th>\n",
       "      <td>0</td>\n",
       "      <td>4</td>\n",
       "      <td>3</td>\n",
       "    </tr>\n",
       "    <tr>\n",
       "      <th>3949</th>\n",
       "      <td>0</td>\n",
       "      <td>4</td>\n",
       "      <td>2</td>\n",
       "    </tr>\n",
       "    <tr>\n",
       "      <th>3950</th>\n",
       "      <td>0</td>\n",
       "      <td>4</td>\n",
       "      <td>4</td>\n",
       "    </tr>\n",
       "  </tbody>\n",
       "</table>\n",
       "</div>"
      ],
      "text/plain": [
       "      Price  Number_Beds  Number_Baths\n",
       "3926      0            3             2\n",
       "3927      0            4             3\n",
       "3928      0            4             3\n",
       "3929      0            4             3\n",
       "3930      0            4             3\n",
       "3931      0            4             2\n",
       "3932      1            2             2\n",
       "3933      0            3             3\n",
       "3935      0            3             2\n",
       "3936      0            3             3\n",
       "3937      0            4             2\n",
       "3938      0            5             4\n",
       "3939      0            5             4\n",
       "3941      0            5             3\n",
       "3943      0            2             1\n",
       "3944      0            4             4\n",
       "3945      0            4             2\n",
       "3948      0            4             3\n",
       "3949      0            4             2\n",
       "3950      0            4             4"
      ]
     },
     "execution_count": 21,
     "metadata": {},
     "output_type": "execute_result"
    }
   ],
   "source": [
    "Edmonton_listings.head(20)"
   ]
  },
  {
   "cell_type": "code",
   "execution_count": 22,
   "metadata": {},
   "outputs": [
    {
     "data": {
      "text/plain": [
       "0    665\n",
       "1    156\n",
       "Name: Price, dtype: int64"
      ]
     },
     "execution_count": 22,
     "metadata": {},
     "output_type": "execute_result"
    }
   ],
   "source": [
    "Edmonton_listings['Price'].value_counts()"
   ]
  },
  {
   "cell_type": "code",
   "execution_count": 23,
   "metadata": {},
   "outputs": [
    {
     "data": {
      "text/plain": [
       "<matplotlib.axes._subplots.AxesSubplot at 0x25047c93b08>"
      ]
     },
     "execution_count": 23,
     "metadata": {},
     "output_type": "execute_result"
    },
    {
     "data": {
      "image/png": "[encoded data removed]",
      "text/plain": [
       "<Figure size 432x288 with 1 Axes>"
      ]
     },
     "metadata": {
      "needs_background": "light"
     },
     "output_type": "display_data"
    }
   ],
   "source": [
    "sns.countplot(Edmonton_listings['Price'])"
   ]
  },
  {
   "cell_type": "code",
   "execution_count": 24,
   "metadata": {},
   "outputs": [],
   "source": [
    "X=Edmonton_listings.drop('Price',axis=1)\n",
    "y=Edmonton_listings['Price']"
   ]
  },
  {
   "cell_type": "code",
   "execution_count": 25,
   "metadata": {},
   "outputs": [],
   "source": [
    "X_train, X_test, y_train, y_test=train_test_split(X,y,test_size=0.2,random_state=1)"
   ]
  },
  {
   "cell_type": "code",
   "execution_count": 26,
   "metadata": {},
   "outputs": [],
   "source": [
    "sc=StandardScaler()\n",
    "X_train=sc.fit_transform(X_train)\n",
    "X_test=sc.fit_transform(X_test)"
   ]
  },
  {
   "cell_type": "markdown",
   "metadata": {},
   "source": [
    "# Random Forest Classifier"
   ]
  },
  {
   "cell_type": "code",
   "execution_count": 27,
   "metadata": {},
   "outputs": [],
   "source": [
    "rfc=RandomForestClassifier(n_estimators=20)\n",
    "rfc.fit(X_train,y_train)\n",
    "pred_rfc=rfc.predict(X_test)"
   ]
  },
  {
   "cell_type": "code",
   "execution_count": 28,
   "metadata": {},
   "outputs": [
    {
     "name": "stdout",
     "output_type": "stream",
     "text": [
      "              precision    recall  f1-score   support\n",
      "\n",
      "           0       0.87      0.99      0.93       140\n",
      "           1       0.80      0.16      0.27        25\n",
      "\n",
      "    accuracy                           0.87       165\n",
      "   macro avg       0.83      0.58      0.60       165\n",
      "weighted avg       0.86      0.87      0.83       165\n",
      "\n",
      "[[139   1]\n",
      " [ 21   4]]\n"
     ]
    }
   ],
   "source": [
    "print(classification_report(y_test,pred_rfc))\n",
    "print(confusion_matrix(y_test,pred_rfc))"
   ]
  },
  {
   "cell_type": "markdown",
   "metadata": {},
   "source": [
    "# SVM Classifier"
   ]
  },
  {
   "cell_type": "code",
   "execution_count": 29,
   "metadata": {},
   "outputs": [],
   "source": [
    "clf=svm.SVC()\n",
    "clf.fit(X_train,y_train)\n",
    "pred_clf=clf.predict(X_test)"
   ]
  },
  {
   "cell_type": "code",
   "execution_count": 30,
   "metadata": {},
   "outputs": [
    {
     "name": "stdout",
     "output_type": "stream",
     "text": [
      "              precision    recall  f1-score   support\n",
      "\n",
      "           0       0.86      0.99      0.92       140\n",
      "           1       0.75      0.12      0.21        25\n",
      "\n",
      "    accuracy                           0.86       165\n",
      "   macro avg       0.81      0.56      0.57       165\n",
      "weighted avg       0.85      0.86      0.81       165\n",
      "\n",
      "[[139   1]\n",
      " [ 22   3]]\n"
     ]
    }
   ],
   "source": [
    "print(classification_report(y_test,pred_clf))\n",
    "print(confusion_matrix(y_test,pred_clf))"
   ]
  },
  {
   "cell_type": "markdown",
   "metadata": {},
   "source": [
    "# Neural Network"
   ]
  },
  {
   "cell_type": "code",
   "execution_count": 31,
   "metadata": {},
   "outputs": [],
   "source": [
    "mlpc=MLPClassifier(hidden_layer_sizes=(9,9,9),max_iter=500)\n",
    "mlpc.fit(X_train,y_train)\n",
    "pred_mlpc=mlpc.predict(X_test)\n"
   ]
  },
  {
   "cell_type": "code",
   "execution_count": 32,
   "metadata": {},
   "outputs": [
    {
     "name": "stdout",
     "output_type": "stream",
     "text": [
      "              precision    recall  f1-score   support\n",
      "\n",
      "           0       0.87      0.99      0.93       140\n",
      "           1       0.80      0.16      0.27        25\n",
      "\n",
      "    accuracy                           0.87       165\n",
      "   macro avg       0.83      0.58      0.60       165\n",
      "weighted avg       0.86      0.87      0.83       165\n",
      "\n",
      "[[139   1]\n",
      " [ 21   4]]\n"
     ]
    }
   ],
   "source": [
    "print(classification_report(y_test,pred_mlpc))\n",
    "print(confusion_matrix(y_test,pred_mlpc))"
   ]
  },
  {
   "cell_type": "code",
   "execution_count": null,
   "metadata": {},
   "outputs": [],
   "source": []
  },
  {
   "cell_type": "code",
   "execution_count": null,
   "metadata": {},
   "outputs": [],
   "source": []
  }
 ],
 "metadata": {
  "kernelspec": {
   "display_name": "Python 3",
   "language": "python",
   "name": "python3"
  },
  "language_info": {
   "codemirror_mode": {
    "name": "ipython",
    "version": 3
   },
   "file_extension": ".py",
   "mimetype": "text/x-python",
   "name": "python",
   "nbconvert_exporter": "python",
   "pygments_lexer": "ipython3",
   "version": "3.7.6"
  }
 },
 "nbformat": 4,
 "nbformat_minor": 4
}
