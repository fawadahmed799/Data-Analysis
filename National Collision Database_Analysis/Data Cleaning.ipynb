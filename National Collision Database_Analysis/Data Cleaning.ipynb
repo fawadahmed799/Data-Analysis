{
 "cells": [
  {
   "cell_type": "code",
   "execution_count": 1,
   "metadata": {},
   "outputs": [
    {
     "data": {
      "text/html": [
       "        <script type=\"text/javascript\">\n",
       "        window.PlotlyConfig = {MathJaxConfig: 'local'};\n",
       "        if (window.MathJax) {MathJax.Hub.Config({SVG: {font: \"STIX-Web\"}});}\n",
       "        if (typeof require !== 'undefined') {\n",
       "        require.undef(\"plotly\");\n",
       "        requirejs.config({\n",
       "            paths: {\n",
       "                'plotly': ['https://cdn.plot.ly/plotly-latest.min']\n",
       "            }\n",
       "        });\n",
       "        require(['plotly'], function(Plotly) {\n",
       "            window._Plotly = Plotly;\n",
       "        });\n",
       "        }\n",
       "        </script>\n",
       "        "
      ]
     },
     "metadata": {},
     "output_type": "display_data"
    },
    {
     "data": {
      "text/html": [
       "        <script type=\"text/javascript\">\n",
       "        window.PlotlyConfig = {MathJaxConfig: 'local'};\n",
       "        if (window.MathJax) {MathJax.Hub.Config({SVG: {font: \"STIX-Web\"}});}\n",
       "        if (typeof require !== 'undefined') {\n",
       "        require.undef(\"plotly\");\n",
       "        requirejs.config({\n",
       "            paths: {\n",
       "                'plotly': ['https://cdn.plot.ly/plotly-latest.min']\n",
       "            }\n",
       "        });\n",
       "        require(['plotly'], function(Plotly) {\n",
       "            window._Plotly = Plotly;\n",
       "        });\n",
       "        }\n",
       "        </script>\n",
       "        "
      ]
     },
     "metadata": {},
     "output_type": "display_data"
    }
   ],
   "source": [
    "# Importing necessary libraries\n",
    "import warnings\n",
    "warnings.simplefilter(\"ignore\")\n",
    "\n",
    "# Essential imports for data analysis for visualization \n",
    "import numpy as np\n",
    "import pandas as pd\n",
    "from pandas import Series, DataFrame\n",
    "import datetime\n",
    "import seaborn as sns\n",
    "import matplotlib.pyplot as plt\n",
    "\n",
    "\n",
    "# Imports for offline interactive plotting\n",
    "import plotly.graph_objs as go \n",
    "from plotly.offline import init_notebook_mode,iplot,plot\n",
    "init_notebook_mode(connected=True) \n",
    "import cufflinks as cf\n",
    "cf.go_offline()\n",
    "\n",
    "# Setting style and inline plotting\n",
    "sns.set_style('whitegrid')\n",
    "%matplotlib inline"
   ]
  },
  {
   "cell_type": "code",
   "execution_count": 2,
   "metadata": {},
   "outputs": [],
   "source": [
    "#loading csv file into pandas dataframe\n",
    "df = pd.read_csv ('C:/Users/fawad/Desktop/datasets/NCDB/NCDB_1999_to_2017.csv')"
   ]
  },
  {
   "cell_type": "code",
   "execution_count": 3,
   "metadata": {},
   "outputs": [
    {
     "data": {
      "text/html": [
       "<div>\n",
       "<style scoped>\n",
       "    .dataframe tbody tr th:only-of-type {\n",
       "        vertical-align: middle;\n",
       "    }\n",
       "\n",
       "    .dataframe tbody tr th {\n",
       "        vertical-align: top;\n",
       "    }\n",
       "\n",
       "    .dataframe thead th {\n",
       "        text-align: right;\n",
       "    }\n",
       "</style>\n",
       "<table border=\"1\" class=\"dataframe\">\n",
       "  <thead>\n",
       "    <tr style=\"text-align: right;\">\n",
       "      <th></th>\n",
       "      <th>C_YEAR</th>\n",
       "      <th>C_MNTH</th>\n",
       "      <th>C_WDAY</th>\n",
       "      <th>C_HOUR</th>\n",
       "      <th>C_SEV</th>\n",
       "      <th>C_VEHS</th>\n",
       "      <th>C_CONF</th>\n",
       "      <th>C_RCFG</th>\n",
       "      <th>C_WTHR</th>\n",
       "      <th>C_RSUR</th>\n",
       "      <th>...</th>\n",
       "      <th>V_TYPE</th>\n",
       "      <th>V_YEAR</th>\n",
       "      <th>P_ID</th>\n",
       "      <th>P_SEX</th>\n",
       "      <th>P_AGE</th>\n",
       "      <th>P_PSN</th>\n",
       "      <th>P_ISEV</th>\n",
       "      <th>P_SAFE</th>\n",
       "      <th>P_USER</th>\n",
       "      <th>C_CASE</th>\n",
       "    </tr>\n",
       "  </thead>\n",
       "  <tbody>\n",
       "    <tr>\n",
       "      <th>0</th>\n",
       "      <td>1999</td>\n",
       "      <td>1</td>\n",
       "      <td>1</td>\n",
       "      <td>20</td>\n",
       "      <td>2</td>\n",
       "      <td>02</td>\n",
       "      <td>34</td>\n",
       "      <td>UU</td>\n",
       "      <td>1</td>\n",
       "      <td>5</td>\n",
       "      <td>...</td>\n",
       "      <td>06</td>\n",
       "      <td>1990</td>\n",
       "      <td>01</td>\n",
       "      <td>M</td>\n",
       "      <td>41</td>\n",
       "      <td>11</td>\n",
       "      <td>1</td>\n",
       "      <td>UU</td>\n",
       "      <td>1</td>\n",
       "      <td>752</td>\n",
       "    </tr>\n",
       "    <tr>\n",
       "      <th>1</th>\n",
       "      <td>1999</td>\n",
       "      <td>1</td>\n",
       "      <td>1</td>\n",
       "      <td>20</td>\n",
       "      <td>2</td>\n",
       "      <td>02</td>\n",
       "      <td>34</td>\n",
       "      <td>UU</td>\n",
       "      <td>1</td>\n",
       "      <td>5</td>\n",
       "      <td>...</td>\n",
       "      <td>01</td>\n",
       "      <td>1987</td>\n",
       "      <td>01</td>\n",
       "      <td>M</td>\n",
       "      <td>19</td>\n",
       "      <td>11</td>\n",
       "      <td>1</td>\n",
       "      <td>UU</td>\n",
       "      <td>1</td>\n",
       "      <td>752</td>\n",
       "    </tr>\n",
       "    <tr>\n",
       "      <th>2</th>\n",
       "      <td>1999</td>\n",
       "      <td>1</td>\n",
       "      <td>1</td>\n",
       "      <td>20</td>\n",
       "      <td>2</td>\n",
       "      <td>02</td>\n",
       "      <td>34</td>\n",
       "      <td>UU</td>\n",
       "      <td>1</td>\n",
       "      <td>5</td>\n",
       "      <td>...</td>\n",
       "      <td>01</td>\n",
       "      <td>1987</td>\n",
       "      <td>02</td>\n",
       "      <td>F</td>\n",
       "      <td>20</td>\n",
       "      <td>13</td>\n",
       "      <td>2</td>\n",
       "      <td>02</td>\n",
       "      <td>2</td>\n",
       "      <td>752</td>\n",
       "    </tr>\n",
       "    <tr>\n",
       "      <th>3</th>\n",
       "      <td>1999</td>\n",
       "      <td>1</td>\n",
       "      <td>1</td>\n",
       "      <td>08</td>\n",
       "      <td>2</td>\n",
       "      <td>01</td>\n",
       "      <td>01</td>\n",
       "      <td>UU</td>\n",
       "      <td>5</td>\n",
       "      <td>3</td>\n",
       "      <td>...</td>\n",
       "      <td>01</td>\n",
       "      <td>1986</td>\n",
       "      <td>01</td>\n",
       "      <td>M</td>\n",
       "      <td>46</td>\n",
       "      <td>11</td>\n",
       "      <td>1</td>\n",
       "      <td>UU</td>\n",
       "      <td>1</td>\n",
       "      <td>753</td>\n",
       "    </tr>\n",
       "    <tr>\n",
       "      <th>4</th>\n",
       "      <td>1999</td>\n",
       "      <td>1</td>\n",
       "      <td>1</td>\n",
       "      <td>08</td>\n",
       "      <td>2</td>\n",
       "      <td>01</td>\n",
       "      <td>01</td>\n",
       "      <td>UU</td>\n",
       "      <td>5</td>\n",
       "      <td>3</td>\n",
       "      <td>...</td>\n",
       "      <td>NN</td>\n",
       "      <td>NNNN</td>\n",
       "      <td>01</td>\n",
       "      <td>M</td>\n",
       "      <td>05</td>\n",
       "      <td>99</td>\n",
       "      <td>2</td>\n",
       "      <td>UU</td>\n",
       "      <td>3</td>\n",
       "      <td>753</td>\n",
       "    </tr>\n",
       "  </tbody>\n",
       "</table>\n",
       "<p>5 rows × 23 columns</p>\n",
       "</div>"
      ],
      "text/plain": [
       "   C_YEAR C_MNTH C_WDAY C_HOUR  C_SEV C_VEHS C_CONF C_RCFG C_WTHR C_RSUR  ...  \\\n",
       "0    1999      1      1     20      2     02     34     UU      1      5  ...   \n",
       "1    1999      1      1     20      2     02     34     UU      1      5  ...   \n",
       "2    1999      1      1     20      2     02     34     UU      1      5  ...   \n",
       "3    1999      1      1     08      2     01     01     UU      5      3  ...   \n",
       "4    1999      1      1     08      2     01     01     UU      5      3  ...   \n",
       "\n",
       "  V_TYPE V_YEAR P_ID P_SEX P_AGE P_PSN P_ISEV P_SAFE P_USER C_CASE  \n",
       "0     06   1990   01     M    41    11      1     UU      1    752  \n",
       "1     01   1987   01     M    19    11      1     UU      1    752  \n",
       "2     01   1987   02     F    20    13      2     02      2    752  \n",
       "3     01   1986   01     M    46    11      1     UU      1    753  \n",
       "4     NN   NNNN   01     M    05    99      2     UU      3    753  \n",
       "\n",
       "[5 rows x 23 columns]"
      ]
     },
     "execution_count": 3,
     "metadata": {},
     "output_type": "execute_result"
    }
   ],
   "source": [
    "#Exploring our data\n",
    "df.head()"
   ]
  },
  {
   "cell_type": "code",
   "execution_count": 4,
   "metadata": {},
   "outputs": [
    {
     "data": {
      "text/html": [
       "<div>\n",
       "<style scoped>\n",
       "    .dataframe tbody tr th:only-of-type {\n",
       "        vertical-align: middle;\n",
       "    }\n",
       "\n",
       "    .dataframe tbody tr th {\n",
       "        vertical-align: top;\n",
       "    }\n",
       "\n",
       "    .dataframe thead th {\n",
       "        text-align: right;\n",
       "    }\n",
       "</style>\n",
       "<table border=\"1\" class=\"dataframe\">\n",
       "  <thead>\n",
       "    <tr style=\"text-align: right;\">\n",
       "      <th></th>\n",
       "      <th>C_YEAR</th>\n",
       "      <th>C_MNTH</th>\n",
       "      <th>C_WDAY</th>\n",
       "      <th>C_HOUR</th>\n",
       "      <th>C_SEV</th>\n",
       "      <th>C_VEHS</th>\n",
       "      <th>C_CONF</th>\n",
       "      <th>C_RCFG</th>\n",
       "      <th>C_WTHR</th>\n",
       "      <th>C_RSUR</th>\n",
       "      <th>...</th>\n",
       "      <th>V_TYPE</th>\n",
       "      <th>V_YEAR</th>\n",
       "      <th>P_ID</th>\n",
       "      <th>P_SEX</th>\n",
       "      <th>P_AGE</th>\n",
       "      <th>P_PSN</th>\n",
       "      <th>P_ISEV</th>\n",
       "      <th>P_SAFE</th>\n",
       "      <th>P_USER</th>\n",
       "      <th>C_CASE</th>\n",
       "    </tr>\n",
       "  </thead>\n",
       "  <tbody>\n",
       "    <tr>\n",
       "      <th>6772558</th>\n",
       "      <td>2017</td>\n",
       "      <td>UU</td>\n",
       "      <td>U</td>\n",
       "      <td>UU</td>\n",
       "      <td>2</td>\n",
       "      <td>UU</td>\n",
       "      <td>UU</td>\n",
       "      <td>01</td>\n",
       "      <td>U</td>\n",
       "      <td>U</td>\n",
       "      <td>...</td>\n",
       "      <td>01</td>\n",
       "      <td>UUUU</td>\n",
       "      <td>01</td>\n",
       "      <td>F</td>\n",
       "      <td>20</td>\n",
       "      <td>11</td>\n",
       "      <td>1</td>\n",
       "      <td>NN</td>\n",
       "      <td>1</td>\n",
       "      <td>2455828</td>\n",
       "    </tr>\n",
       "    <tr>\n",
       "      <th>6772559</th>\n",
       "      <td>2017</td>\n",
       "      <td>UU</td>\n",
       "      <td>U</td>\n",
       "      <td>UU</td>\n",
       "      <td>2</td>\n",
       "      <td>UU</td>\n",
       "      <td>UU</td>\n",
       "      <td>01</td>\n",
       "      <td>U</td>\n",
       "      <td>U</td>\n",
       "      <td>...</td>\n",
       "      <td>01</td>\n",
       "      <td>UUUU</td>\n",
       "      <td>01</td>\n",
       "      <td>F</td>\n",
       "      <td>47</td>\n",
       "      <td>11</td>\n",
       "      <td>1</td>\n",
       "      <td>NN</td>\n",
       "      <td>1</td>\n",
       "      <td>2455828</td>\n",
       "    </tr>\n",
       "    <tr>\n",
       "      <th>6772560</th>\n",
       "      <td>2017</td>\n",
       "      <td>UU</td>\n",
       "      <td>U</td>\n",
       "      <td>UU</td>\n",
       "      <td>2</td>\n",
       "      <td>UU</td>\n",
       "      <td>UU</td>\n",
       "      <td>01</td>\n",
       "      <td>U</td>\n",
       "      <td>U</td>\n",
       "      <td>...</td>\n",
       "      <td>07</td>\n",
       "      <td>UUUU</td>\n",
       "      <td>01</td>\n",
       "      <td>M</td>\n",
       "      <td>24</td>\n",
       "      <td>11</td>\n",
       "      <td>1</td>\n",
       "      <td>NN</td>\n",
       "      <td>1</td>\n",
       "      <td>2455828</td>\n",
       "    </tr>\n",
       "    <tr>\n",
       "      <th>6772561</th>\n",
       "      <td>2017</td>\n",
       "      <td>UU</td>\n",
       "      <td>U</td>\n",
       "      <td>23</td>\n",
       "      <td>2</td>\n",
       "      <td>01</td>\n",
       "      <td>03</td>\n",
       "      <td>01</td>\n",
       "      <td>1</td>\n",
       "      <td>1</td>\n",
       "      <td>...</td>\n",
       "      <td>16</td>\n",
       "      <td>UUUU</td>\n",
       "      <td>01</td>\n",
       "      <td>M</td>\n",
       "      <td>45</td>\n",
       "      <td>96</td>\n",
       "      <td>2</td>\n",
       "      <td>09</td>\n",
       "      <td>U</td>\n",
       "      <td>2570233</td>\n",
       "    </tr>\n",
       "    <tr>\n",
       "      <th>6772562</th>\n",
       "      <td>2017</td>\n",
       "      <td>UU</td>\n",
       "      <td>U</td>\n",
       "      <td>23</td>\n",
       "      <td>2</td>\n",
       "      <td>01</td>\n",
       "      <td>03</td>\n",
       "      <td>01</td>\n",
       "      <td>1</td>\n",
       "      <td>1</td>\n",
       "      <td>...</td>\n",
       "      <td>16</td>\n",
       "      <td>UUUU</td>\n",
       "      <td>02</td>\n",
       "      <td>F</td>\n",
       "      <td>45</td>\n",
       "      <td>96</td>\n",
       "      <td>2</td>\n",
       "      <td>09</td>\n",
       "      <td>U</td>\n",
       "      <td>2570233</td>\n",
       "    </tr>\n",
       "  </tbody>\n",
       "</table>\n",
       "<p>5 rows × 23 columns</p>\n",
       "</div>"
      ],
      "text/plain": [
       "         C_YEAR C_MNTH C_WDAY C_HOUR  C_SEV C_VEHS C_CONF C_RCFG C_WTHR  \\\n",
       "6772558    2017     UU      U     UU      2     UU     UU     01      U   \n",
       "6772559    2017     UU      U     UU      2     UU     UU     01      U   \n",
       "6772560    2017     UU      U     UU      2     UU     UU     01      U   \n",
       "6772561    2017     UU      U     23      2     01     03     01      1   \n",
       "6772562    2017     UU      U     23      2     01     03     01      1   \n",
       "\n",
       "        C_RSUR  ... V_TYPE V_YEAR P_ID P_SEX P_AGE P_PSN P_ISEV P_SAFE P_USER  \\\n",
       "6772558      U  ...     01   UUUU   01     F    20    11      1     NN      1   \n",
       "6772559      U  ...     01   UUUU   01     F    47    11      1     NN      1   \n",
       "6772560      U  ...     07   UUUU   01     M    24    11      1     NN      1   \n",
       "6772561      1  ...     16   UUUU   01     M    45    96      2     09      U   \n",
       "6772562      1  ...     16   UUUU   02     F    45    96      2     09      U   \n",
       "\n",
       "          C_CASE  \n",
       "6772558  2455828  \n",
       "6772559  2455828  \n",
       "6772560  2455828  \n",
       "6772561  2570233  \n",
       "6772562  2570233  \n",
       "\n",
       "[5 rows x 23 columns]"
      ]
     },
     "execution_count": 4,
     "metadata": {},
     "output_type": "execute_result"
    }
   ],
   "source": [
    "df.tail()"
   ]
  },
  {
   "cell_type": "code",
   "execution_count": 6,
   "metadata": {},
   "outputs": [
    {
     "data": {
      "text/plain": [
       "Index(['C_YEAR', 'C_MNTH', 'C_WDAY', 'C_HOUR', 'C_SEV', 'C_VEHS', 'C_CONF',\n",
       "       'C_RCFG', 'C_WTHR', 'C_RSUR', 'C_RALN', 'C_TRAF', 'V_ID', 'V_TYPE',\n",
       "       'V_YEAR', 'P_ID', 'P_SEX', 'P_AGE', 'P_PSN', 'P_ISEV', 'P_SAFE',\n",
       "       'P_USER', 'C_CASE'],\n",
       "      dtype='object')"
      ]
     },
     "execution_count": 6,
     "metadata": {},
     "output_type": "execute_result"
    }
   ],
   "source": [
    "df.columns"
   ]
  },
  {
   "cell_type": "code",
   "execution_count": 7,
   "metadata": {},
   "outputs": [
    {
     "data": {
      "text/html": [
       "<div>\n",
       "<style scoped>\n",
       "    .dataframe tbody tr th:only-of-type {\n",
       "        vertical-align: middle;\n",
       "    }\n",
       "\n",
       "    .dataframe tbody tr th {\n",
       "        vertical-align: top;\n",
       "    }\n",
       "\n",
       "    .dataframe thead th {\n",
       "        text-align: right;\n",
       "    }\n",
       "</style>\n",
       "<table border=\"1\" class=\"dataframe\">\n",
       "  <thead>\n",
       "    <tr style=\"text-align: right;\">\n",
       "      <th></th>\n",
       "      <th>C_YEAR</th>\n",
       "      <th>C_SEV</th>\n",
       "      <th>C_CASE</th>\n",
       "    </tr>\n",
       "  </thead>\n",
       "  <tbody>\n",
       "    <tr>\n",
       "      <th>count</th>\n",
       "      <td>6.772563e+06</td>\n",
       "      <td>6.772563e+06</td>\n",
       "      <td>6.772563e+06</td>\n",
       "    </tr>\n",
       "    <tr>\n",
       "      <th>mean</th>\n",
       "      <td>2.007342e+03</td>\n",
       "      <td>1.983390e+00</td>\n",
       "      <td>1.273550e+06</td>\n",
       "    </tr>\n",
       "    <tr>\n",
       "      <th>std</th>\n",
       "      <td>5.453422e+00</td>\n",
       "      <td>1.278037e-01</td>\n",
       "      <td>7.423937e+05</td>\n",
       "    </tr>\n",
       "    <tr>\n",
       "      <th>min</th>\n",
       "      <td>1.999000e+03</td>\n",
       "      <td>1.000000e+00</td>\n",
       "      <td>1.000000e+00</td>\n",
       "    </tr>\n",
       "    <tr>\n",
       "      <th>25%</th>\n",
       "      <td>2.003000e+03</td>\n",
       "      <td>2.000000e+00</td>\n",
       "      <td>6.263120e+05</td>\n",
       "    </tr>\n",
       "    <tr>\n",
       "      <th>50%</th>\n",
       "      <td>2.007000e+03</td>\n",
       "      <td>2.000000e+00</td>\n",
       "      <td>1.271499e+06</td>\n",
       "    </tr>\n",
       "    <tr>\n",
       "      <th>75%</th>\n",
       "      <td>2.012000e+03</td>\n",
       "      <td>2.000000e+00</td>\n",
       "      <td>1.914983e+06</td>\n",
       "    </tr>\n",
       "    <tr>\n",
       "      <th>max</th>\n",
       "      <td>2.017000e+03</td>\n",
       "      <td>2.000000e+00</td>\n",
       "      <td>2.570235e+06</td>\n",
       "    </tr>\n",
       "  </tbody>\n",
       "</table>\n",
       "</div>"
      ],
      "text/plain": [
       "             C_YEAR         C_SEV        C_CASE\n",
       "count  6.772563e+06  6.772563e+06  6.772563e+06\n",
       "mean   2.007342e+03  1.983390e+00  1.273550e+06\n",
       "std    5.453422e+00  1.278037e-01  7.423937e+05\n",
       "min    1.999000e+03  1.000000e+00  1.000000e+00\n",
       "25%    2.003000e+03  2.000000e+00  6.263120e+05\n",
       "50%    2.007000e+03  2.000000e+00  1.271499e+06\n",
       "75%    2.012000e+03  2.000000e+00  1.914983e+06\n",
       "max    2.017000e+03  2.000000e+00  2.570235e+06"
      ]
     },
     "execution_count": 7,
     "metadata": {},
     "output_type": "execute_result"
    }
   ],
   "source": [
    "df.describe()"
   ]
  },
  {
   "cell_type": "code",
   "execution_count": 8,
   "metadata": {},
   "outputs": [
    {
     "name": "stdout",
     "output_type": "stream",
     "text": [
      "<class 'pandas.core.frame.DataFrame'>\n",
      "RangeIndex: 6772563 entries, 0 to 6772562\n",
      "Data columns (total 23 columns):\n",
      " #   Column  Dtype \n",
      "---  ------  ----- \n",
      " 0   C_YEAR  int64 \n",
      " 1   C_MNTH  object\n",
      " 2   C_WDAY  object\n",
      " 3   C_HOUR  object\n",
      " 4   C_SEV   int64 \n",
      " 5   C_VEHS  object\n",
      " 6   C_CONF  object\n",
      " 7   C_RCFG  object\n",
      " 8   C_WTHR  object\n",
      " 9   C_RSUR  object\n",
      " 10  C_RALN  object\n",
      " 11  C_TRAF  object\n",
      " 12  V_ID    object\n",
      " 13  V_TYPE  object\n",
      " 14  V_YEAR  object\n",
      " 15  P_ID    object\n",
      " 16  P_SEX   object\n",
      " 17  P_AGE   object\n",
      " 18  P_PSN   object\n",
      " 19  P_ISEV  object\n",
      " 20  P_SAFE  object\n",
      " 21  P_USER  object\n",
      " 22  C_CASE  int64 \n",
      "dtypes: int64(3), object(20)\n",
      "memory usage: 1.2+ GB\n"
     ]
    }
   ],
   "source": [
    "df.info()"
   ]
  },
  {
   "cell_type": "code",
   "execution_count": 9,
   "metadata": {},
   "outputs": [],
   "source": [
    "#dropping columns that we dont find interesting for our analysis\n",
    "df.drop(['V_ID', 'P_ID', 'C_CASE', 'C_VEHS', 'C_RCFG', 'C_RALN', 'C_TRAF', 'V_YEAR', 'P_ISEV', 'P_SAFE', 'P_USER', 'C_CASE' ], axis=1, inplace=True)"
   ]
  },
  {
   "cell_type": "code",
   "execution_count": 11,
   "metadata": {},
   "outputs": [],
   "source": [
    "#giving columns meaningful names\n",
    "df.rename(columns={'C_YEAR': 'YEAR', 'C_MNTH': 'MNTH', 'C_WDAY': 'DAY', 'C_HOUR': 'TIME', 'C_SEV': 'SEVERITY', 'C_CONF': 'Collision CONF.', 'C_WTHR': 'WEATHER', 'C_RSUR': 'RD. SURFACE', 'V_TYPE': 'VEHICLE TYPE', 'P_SEX': 'GENDER', 'P_AGE': 'AGE', 'P_PSN': 'PERSON POSITION'}, inplace=True)"
   ]
  },
  {
   "cell_type": "code",
   "execution_count": 12,
   "metadata": {},
   "outputs": [
    {
     "data": {
      "text/plain": [
       "Index(['YEAR', 'MNTH', 'DAY', 'TIME', 'SEVERITY', 'Collision CONF.', 'WEATHER',\n",
       "       'RD. SURFACE', 'VEHICLE TYPE', 'GENDER', 'AGE', 'PERSON POSITION'],\n",
       "      dtype='object')"
      ]
     },
     "execution_count": 12,
     "metadata": {},
     "output_type": "execute_result"
    }
   ],
   "source": [
    "#Lets see how the columns look now\n",
    "df.columns"
   ]
  },
  {
   "cell_type": "code",
   "execution_count": 13,
   "metadata": {},
   "outputs": [
    {
     "name": "stdout",
     "output_type": "stream",
     "text": [
      "[1999 2000 2001 2002 2003 2004 2005 2006 2007 2008 2009 2010 2011 2012\n",
      " 2013 2014 2015 2016 2017]\n",
      "[1 2 3 4 5 6 7 8 9 10 11 12 '12' 'UU' '01' '02' '11']\n",
      "[1 2 3 4 5 6 7 '7' 'U' '1' '2' '3' '4' '5' '6']\n",
      "['20' '08' '17' '15' '14' '01' '11' '13' '19' '16' '09' '02' '18' '12'\n",
      " '10' '23' '00' '06' '07' '21' 'UU' '05' '22' '03' '04']\n",
      "[2 1]\n",
      "['34' '01' 'QQ' '04' '31' '21' '23' '03' '02' '33' 'UU' '24' '35' '41'\n",
      " '06' '32' '36' '05' '22' '25']\n",
      "['1' '5' '3' '4' '7' '2' 'U' '6' 'Q']\n",
      "['5' '3' '2' '4' '1' '6' 'U' 'Q' '7' '9' '8']\n",
      "['06' '01' 'NN' '11' 'UU' '20' '17' '07' '08' 'QQ' '09' '22' '14' '23'\n",
      " '05' '16' '19' '18' '10' '21']\n",
      "['M' 'F' 'U' 'N']\n",
      "['41' '19' '20' '46' '05' '28' '21' 'UU' '61' '56' '34' '22' '30' '49'\n",
      " '32' '31' '68' '08' '45' '17' '33' '82' '39' '37' '55' '38' '43' '35'\n",
      " '23' '25' '65' '44' '36' '70' '50' '40' '27' '26' '15' '53' '16' '13'\n",
      " '14' '12' '18' '77' '86' '42' '24' '47' '62' '06' '57' '83' '74' '67'\n",
      " '51' '29' '01' '02' '54' '71' '10' '79' '63' '58' '48' '60' '07' '64'\n",
      " '75' '52' '85' '93' '92' '69' '72' '11' '59' '09' '66' '76' '73' '04'\n",
      " '78' '80' '84' '03' '81' '89' '87' '88' '90' 'NN' '91' '95' '97' '94'\n",
      " '99' '98' '96']\n",
      "['11' '13' '99' '23' '98' '21' '22' '12' 'QQ' '96' '32' 'UU' 'NN' '31'\n",
      " '33' '97']\n"
     ]
    }
   ],
   "source": [
    "#getting all the unique values in columns\n",
    "for col in df:\n",
    "    print(df[col].unique())"
   ]
  },
  {
   "cell_type": "code",
   "execution_count": 14,
   "metadata": {},
   "outputs": [],
   "source": [
    "#dropping rows with garbage values\n",
    "df.drop( df[ (df['MNTH'] == 'UU')].index, inplace=True)"
   ]
  },
  {
   "cell_type": "code",
   "execution_count": 15,
   "metadata": {},
   "outputs": [],
   "source": [
    "df.drop( df[ (df['DAY'] == 'U')].index, inplace=True)"
   ]
  },
  {
   "cell_type": "code",
   "execution_count": 16,
   "metadata": {},
   "outputs": [],
   "source": [
    "df.drop( df[ (df['TIME'] == 'UU')].index, inplace=True)"
   ]
  },
  {
   "cell_type": "code",
   "execution_count": 17,
   "metadata": {},
   "outputs": [],
   "source": [
    "df.drop( df[ (df['Collision CONF.'] == 'UU')].index, inplace=True)"
   ]
  },
  {
   "cell_type": "code",
   "execution_count": 18,
   "metadata": {},
   "outputs": [],
   "source": [
    "df.drop( df[ (df['Collision CONF.'] == 'QQ')].index, inplace=True)"
   ]
  },
  {
   "cell_type": "code",
   "execution_count": 19,
   "metadata": {},
   "outputs": [],
   "source": [
    "df.drop( df[ (df['WEATHER'] == 'U')].index, inplace=True)"
   ]
  },
  {
   "cell_type": "code",
   "execution_count": 20,
   "metadata": {},
   "outputs": [],
   "source": [
    "df.drop( df[ (df['WEATHER'] == 'Q')].index, inplace=True)"
   ]
  },
  {
   "cell_type": "code",
   "execution_count": 21,
   "metadata": {},
   "outputs": [],
   "source": [
    "df.drop( df[ (df['RD. SURFACE'] == 'U')].index, inplace=True)"
   ]
  },
  {
   "cell_type": "code",
   "execution_count": 22,
   "metadata": {},
   "outputs": [],
   "source": [
    "df.drop( df[ (df['RD. SURFACE'] == 'Q')].index, inplace=True)"
   ]
  },
  {
   "cell_type": "code",
   "execution_count": 23,
   "metadata": {},
   "outputs": [],
   "source": [
    "df.drop( df[ (df['VEHICLE TYPE'] == 'QQ')].index, inplace=True)"
   ]
  },
  {
   "cell_type": "code",
   "execution_count": 24,
   "metadata": {},
   "outputs": [],
   "source": [
    "df.drop( df[ (df['VEHICLE TYPE'] == 'NN')].index, inplace=True)"
   ]
  },
  {
   "cell_type": "code",
   "execution_count": 25,
   "metadata": {},
   "outputs": [],
   "source": [
    "df.drop( df[ (df['VEHICLE TYPE'] == 'UU')].index, inplace=True)"
   ]
  },
  {
   "cell_type": "code",
   "execution_count": 26,
   "metadata": {},
   "outputs": [],
   "source": [
    "df.drop( df[ (df['GENDER'] == 'U')].index, inplace=True)"
   ]
  },
  {
   "cell_type": "code",
   "execution_count": 27,
   "metadata": {},
   "outputs": [],
   "source": [
    "df.drop( df[ (df['GENDER'] == 'N')].index, inplace=True)"
   ]
  },
  {
   "cell_type": "code",
   "execution_count": 28,
   "metadata": {},
   "outputs": [],
   "source": [
    "df.drop( df[ (df['AGE'] == 'NN')].index, inplace=True)"
   ]
  },
  {
   "cell_type": "code",
   "execution_count": 29,
   "metadata": {},
   "outputs": [],
   "source": [
    "df.drop( df[ (df['AGE'] == 'UU')].index, inplace=True)"
   ]
  },
  {
   "cell_type": "code",
   "execution_count": 30,
   "metadata": {},
   "outputs": [],
   "source": [
    "df.drop( df[ (df['PERSON POSITION'] == 'NN')].index, inplace=True)"
   ]
  },
  {
   "cell_type": "code",
   "execution_count": 31,
   "metadata": {},
   "outputs": [],
   "source": [
    "df.drop( df[ (df['PERSON POSITION'] == 'UU')].index, inplace=True)"
   ]
  },
  {
   "cell_type": "code",
   "execution_count": 32,
   "metadata": {},
   "outputs": [],
   "source": [
    "df.drop( df[ (df['PERSON POSITION'] == 'QQ')].index, inplace=True)"
   ]
  },
  {
   "cell_type": "code",
   "execution_count": 116,
   "metadata": {},
   "outputs": [],
   "source": [
    "#converting to Int data type\n",
    "df = df.astype({\"MNTH\": int})"
   ]
  },
  {
   "cell_type": "code",
   "execution_count": 117,
   "metadata": {},
   "outputs": [],
   "source": [
    "df = df.astype({\"AGE\": int})"
   ]
  },
  {
   "cell_type": "code",
   "execution_count": 33,
   "metadata": {},
   "outputs": [],
   "source": [
    "#from dictionary, replacing the codes in columns with their meaningful descriptions\n",
    "df['DAY'] = df['DAY'].replace(['1'],'Mon')"
   ]
  },
  {
   "cell_type": "code",
   "execution_count": 34,
   "metadata": {},
   "outputs": [],
   "source": [
    "df['DAY'] = df['DAY'].replace(['2'],'Tue')"
   ]
  },
  {
   "cell_type": "code",
   "execution_count": 35,
   "metadata": {},
   "outputs": [],
   "source": [
    "df['DAY'] = df['DAY'].replace(['3'],'Wed')"
   ]
  },
  {
   "cell_type": "code",
   "execution_count": 36,
   "metadata": {},
   "outputs": [],
   "source": [
    "df['DAY'] = df['DAY'].replace(['4'],'Thur')"
   ]
  },
  {
   "cell_type": "code",
   "execution_count": 37,
   "metadata": {},
   "outputs": [],
   "source": [
    "df['DAY'] = df['DAY'].replace(['5'],'Fri')"
   ]
  },
  {
   "cell_type": "code",
   "execution_count": 38,
   "metadata": {},
   "outputs": [],
   "source": [
    "df['DAY'] = df['DAY'].replace(['6'],'Sat')"
   ]
  },
  {
   "cell_type": "code",
   "execution_count": 39,
   "metadata": {},
   "outputs": [],
   "source": [
    "df['DAY'] = df['DAY'].replace(['7'],'Sun')"
   ]
  },
  {
   "cell_type": "code",
   "execution_count": 40,
   "metadata": {},
   "outputs": [],
   "source": [
    "df['DAY'] = df['DAY'].replace([1],'Mon')"
   ]
  },
  {
   "cell_type": "code",
   "execution_count": 41,
   "metadata": {},
   "outputs": [],
   "source": [
    "df['DAY'] = df['DAY'].replace([2],'Tue')"
   ]
  },
  {
   "cell_type": "code",
   "execution_count": 42,
   "metadata": {},
   "outputs": [],
   "source": [
    "df['DAY'] = df['DAY'].replace([3],'Wed')"
   ]
  },
  {
   "cell_type": "code",
   "execution_count": 43,
   "metadata": {},
   "outputs": [],
   "source": [
    "df['DAY'] = df['DAY'].replace([4],'Thur')"
   ]
  },
  {
   "cell_type": "code",
   "execution_count": 44,
   "metadata": {},
   "outputs": [],
   "source": [
    "df['DAY'] = df['DAY'].replace([5],'Fri')"
   ]
  },
  {
   "cell_type": "code",
   "execution_count": 45,
   "metadata": {},
   "outputs": [],
   "source": [
    "df['DAY'] = df['DAY'].replace([6],'Sat')"
   ]
  },
  {
   "cell_type": "code",
   "execution_count": 46,
   "metadata": {},
   "outputs": [],
   "source": [
    "df['DAY'] = df['DAY'].replace([7],'Sun')"
   ]
  },
  {
   "cell_type": "code",
   "execution_count": 51,
   "metadata": {},
   "outputs": [],
   "source": [
    "df['Collision CONF.'] = df['Collision CONF.'].replace(['01'],'SINGLE_VEHICLE')"
   ]
  },
  {
   "cell_type": "code",
   "execution_count": 52,
   "metadata": {},
   "outputs": [],
   "source": [
    "df['Collision CONF.'] = df['Collision CONF.'].replace(['02'],'SINGLE_VEHICLE')"
   ]
  },
  {
   "cell_type": "code",
   "execution_count": 53,
   "metadata": {},
   "outputs": [],
   "source": [
    "df['Collision CONF.'] = df['Collision CONF.'].replace(['03'],'SINGLE_VEHICLE')"
   ]
  },
  {
   "cell_type": "code",
   "execution_count": 54,
   "metadata": {},
   "outputs": [],
   "source": [
    "df['Collision CONF.'] = df['Collision CONF.'].replace(['04'],'SINGLE_VEHICLE')"
   ]
  },
  {
   "cell_type": "code",
   "execution_count": 55,
   "metadata": {},
   "outputs": [],
   "source": [
    "df['Collision CONF.'] = df['Collision CONF.'].replace(['05'],'SINGLE_VEHICLE')"
   ]
  },
  {
   "cell_type": "code",
   "execution_count": 56,
   "metadata": {},
   "outputs": [],
   "source": [
    "df['Collision CONF.'] = df['Collision CONF.'].replace(['06'],'SINGLE_VEHICLE')"
   ]
  },
  {
   "cell_type": "code",
   "execution_count": 57,
   "metadata": {},
   "outputs": [],
   "source": [
    "df['Collision CONF.'] = df['Collision CONF.'].replace(['21'],'TWO_VEHICLE_SAME_DIR')"
   ]
  },
  {
   "cell_type": "code",
   "execution_count": 58,
   "metadata": {},
   "outputs": [],
   "source": [
    "df['Collision CONF.'] = df['Collision CONF.'].replace(['22'],'TWO_VEHICLE_SAME_DIR')"
   ]
  },
  {
   "cell_type": "code",
   "execution_count": 59,
   "metadata": {},
   "outputs": [],
   "source": [
    "df['Collision CONF.'] = df['Collision CONF.'].replace(['23'],'TWO_VEHICLE_SAME_DIR')"
   ]
  },
  {
   "cell_type": "code",
   "execution_count": 60,
   "metadata": {},
   "outputs": [],
   "source": [
    "df['Collision CONF.'] = df['Collision CONF.'].replace(['24'],'TWO_VEHICLE_SAME_DIR')"
   ]
  },
  {
   "cell_type": "code",
   "execution_count": 61,
   "metadata": {},
   "outputs": [],
   "source": [
    "df['Collision CONF.'] = df['Collision CONF.'].replace(['25'],'TWO_VEHICLE_SAME_DIR')"
   ]
  },
  {
   "cell_type": "code",
   "execution_count": 62,
   "metadata": {},
   "outputs": [],
   "source": [
    "df['Collision CONF.'] = df['Collision CONF.'].replace(['31'],'TWO_VEHICLE_OPP_DIR')"
   ]
  },
  {
   "cell_type": "code",
   "execution_count": 63,
   "metadata": {},
   "outputs": [],
   "source": [
    "df['Collision CONF.'] = df['Collision CONF.'].replace(['32'],'TWO_VEHICLE_OPP_DIR')"
   ]
  },
  {
   "cell_type": "code",
   "execution_count": 64,
   "metadata": {},
   "outputs": [],
   "source": [
    "df['Collision CONF.'] = df['Collision CONF.'].replace(['33'],'TWO_VEHICLE_OPP_DIR')"
   ]
  },
  {
   "cell_type": "code",
   "execution_count": 65,
   "metadata": {},
   "outputs": [],
   "source": [
    "df['Collision CONF.'] = df['Collision CONF.'].replace(['34'],'TWO_VEHICLE_OPP_DIR')"
   ]
  },
  {
   "cell_type": "code",
   "execution_count": 66,
   "metadata": {},
   "outputs": [],
   "source": [
    "df['Collision CONF.'] = df['Collision CONF.'].replace(['35'],'TWO_VEHICLE_OPP_DIR')"
   ]
  },
  {
   "cell_type": "code",
   "execution_count": 67,
   "metadata": {},
   "outputs": [],
   "source": [
    "df['Collision CONF.'] = df['Collision CONF.'].replace(['36'],'TWO_VEHICLE_OPP_DIR')"
   ]
  },
  {
   "cell_type": "code",
   "execution_count": 68,
   "metadata": {},
   "outputs": [],
   "source": [
    "df['Collision CONF.'] = df['Collision CONF.'].replace(['41'],'TWO_VEHICLE_OPP_DIR')"
   ]
  },
  {
   "cell_type": "code",
   "execution_count": 69,
   "metadata": {},
   "outputs": [],
   "source": [
    "df['WEATHER'] = df['WEATHER'].replace(['1'],'SUNNY')"
   ]
  },
  {
   "cell_type": "code",
   "execution_count": 70,
   "metadata": {},
   "outputs": [],
   "source": [
    "df['WEATHER'] = df['WEATHER'].replace(['2'],'CLOUDY')"
   ]
  },
  {
   "cell_type": "code",
   "execution_count": 71,
   "metadata": {},
   "outputs": [],
   "source": [
    "df['WEATHER'] = df['WEATHER'].replace(['3'],'RAINY')"
   ]
  },
  {
   "cell_type": "code",
   "execution_count": 72,
   "metadata": {},
   "outputs": [],
   "source": [
    "df['WEATHER'] = df['WEATHER'].replace(['4'],'SNOW')"
   ]
  },
  {
   "cell_type": "code",
   "execution_count": 73,
   "metadata": {},
   "outputs": [],
   "source": [
    "df['WEATHER'] = df['WEATHER'].replace(['5'],'FREEZING RAIN/HAIL')"
   ]
  },
  {
   "cell_type": "code",
   "execution_count": 74,
   "metadata": {},
   "outputs": [],
   "source": [
    "df['WEATHER'] = df['WEATHER'].replace(['6'],'LIMITED_VISIBILITY')"
   ]
  },
  {
   "cell_type": "code",
   "execution_count": 75,
   "metadata": {},
   "outputs": [],
   "source": [
    "df['WEATHER'] = df['WEATHER'].replace(['7'],'GUST')"
   ]
  },
  {
   "cell_type": "code",
   "execution_count": 76,
   "metadata": {},
   "outputs": [],
   "source": [
    "df['RD. SURFACE'] = df['RD. SURFACE'].replace(['1'],'DRY')"
   ]
  },
  {
   "cell_type": "code",
   "execution_count": 77,
   "metadata": {},
   "outputs": [],
   "source": [
    "df['RD. SURFACE'] = df['RD. SURFACE'].replace(['2'],'WET')"
   ]
  },
  {
   "cell_type": "code",
   "execution_count": 78,
   "metadata": {},
   "outputs": [],
   "source": [
    "df['RD. SURFACE'] = df['RD. SURFACE'].replace(['3'],'SNOW')"
   ]
  },
  {
   "cell_type": "code",
   "execution_count": 79,
   "metadata": {},
   "outputs": [],
   "source": [
    "df['RD. SURFACE'] = df['RD. SURFACE'].replace(['4'],'SLUSH')"
   ]
  },
  {
   "cell_type": "code",
   "execution_count": 80,
   "metadata": {},
   "outputs": [],
   "source": [
    "df['RD. SURFACE'] = df['RD. SURFACE'].replace(['5'],'ICY')"
   ]
  },
  {
   "cell_type": "code",
   "execution_count": 81,
   "metadata": {},
   "outputs": [],
   "source": [
    "df['RD. SURFACE'] = df['RD. SURFACE'].replace(['6'],'SAND/GRAVEL')"
   ]
  },
  {
   "cell_type": "code",
   "execution_count": 82,
   "metadata": {},
   "outputs": [],
   "source": [
    "df['RD. SURFACE'] = df['RD. SURFACE'].replace(['7'],'MUDDY')"
   ]
  },
  {
   "cell_type": "code",
   "execution_count": 83,
   "metadata": {},
   "outputs": [],
   "source": [
    "df['RD. SURFACE'] = df['RD. SURFACE'].replace(['8'],'OIL')"
   ]
  },
  {
   "cell_type": "code",
   "execution_count": 84,
   "metadata": {},
   "outputs": [],
   "source": [
    "df['RD. SURFACE'] = df['RD. SURFACE'].replace(['9'],'FLOODED')"
   ]
  },
  {
   "cell_type": "code",
   "execution_count": 85,
   "metadata": {},
   "outputs": [],
   "source": [
    "df['VEHICLE TYPE'] = df['VEHICLE TYPE'].replace(['01'],'LIGHT DUTY')"
   ]
  },
  {
   "cell_type": "code",
   "execution_count": 86,
   "metadata": {},
   "outputs": [],
   "source": [
    "df['VEHICLE TYPE'] = df['VEHICLE TYPE'].replace(['05'],'CARGO VAN')"
   ]
  },
  {
   "cell_type": "code",
   "execution_count": 87,
   "metadata": {},
   "outputs": [],
   "source": [
    "df['VEHICLE TYPE'] = df['VEHICLE TYPE'].replace(['06'],'CARGO VAN')"
   ]
  },
  {
   "cell_type": "code",
   "execution_count": 88,
   "metadata": {},
   "outputs": [],
   "source": [
    "df['VEHICLE TYPE'] = df['VEHICLE TYPE'].replace(['07'],'HEAVY UNITS')"
   ]
  },
  {
   "cell_type": "code",
   "execution_count": 89,
   "metadata": {},
   "outputs": [],
   "source": [
    "df['VEHICLE TYPE'] = df['VEHICLE TYPE'].replace(['08'],'ROAD TRACTORS')"
   ]
  },
  {
   "cell_type": "code",
   "execution_count": 90,
   "metadata": {},
   "outputs": [],
   "source": [
    "df['VEHICLE TYPE'] = df['VEHICLE TYPE'].replace(['09'],'SCHOOL BUS_STANDARD')"
   ]
  },
  {
   "cell_type": "code",
   "execution_count": 91,
   "metadata": {},
   "outputs": [],
   "source": [
    "df['VEHICLE TYPE'] = df['VEHICLE TYPE'].replace(['10'],'SCHOOL BUS_SMALL')"
   ]
  },
  {
   "cell_type": "code",
   "execution_count": 92,
   "metadata": {},
   "outputs": [],
   "source": [
    "df['VEHICLE TYPE'] = df['VEHICLE TYPE'].replace(['11'],'INTERCITY BUS')"
   ]
  },
  {
   "cell_type": "code",
   "execution_count": 93,
   "metadata": {},
   "outputs": [],
   "source": [
    "df['VEHICLE TYPE'] = df['VEHICLE TYPE'].replace(['14'],'MOTORCYCLE')"
   ]
  },
  {
   "cell_type": "code",
   "execution_count": 94,
   "metadata": {},
   "outputs": [],
   "source": [
    "df['VEHICLE TYPE'] = df['VEHICLE TYPE'].replace(['16'],'ATV')"
   ]
  },
  {
   "cell_type": "code",
   "execution_count": 95,
   "metadata": {},
   "outputs": [],
   "source": [
    "df['VEHICLE TYPE'] = df['VEHICLE TYPE'].replace(['17'],'BICYCLE')"
   ]
  },
  {
   "cell_type": "code",
   "execution_count": 96,
   "metadata": {},
   "outputs": [],
   "source": [
    "df['VEHICLE TYPE'] = df['VEHICLE TYPE'].replace(['18'],'MOTORHOME')"
   ]
  },
  {
   "cell_type": "code",
   "execution_count": 97,
   "metadata": {},
   "outputs": [],
   "source": [
    "df['VEHICLE TYPE'] = df['VEHICLE TYPE'].replace(['19'],'FARM EQUIPMENT')"
   ]
  },
  {
   "cell_type": "code",
   "execution_count": 99,
   "metadata": {},
   "outputs": [],
   "source": [
    "df['VEHICLE TYPE'] = df['VEHICLE TYPE'].replace(['20'],'CONSTRUCTION EQUIPMENT')"
   ]
  },
  {
   "cell_type": "code",
   "execution_count": 100,
   "metadata": {},
   "outputs": [],
   "source": [
    "df['VEHICLE TYPE'] = df['VEHICLE TYPE'].replace(['21'],'FIRE ENGINE')"
   ]
  },
  {
   "cell_type": "code",
   "execution_count": 101,
   "metadata": {},
   "outputs": [],
   "source": [
    "df['VEHICLE TYPE'] = df['VEHICLE TYPE'].replace(['22'],'SNOWMOBILE')"
   ]
  },
  {
   "cell_type": "code",
   "execution_count": 102,
   "metadata": {},
   "outputs": [],
   "source": [
    "df['VEHICLE TYPE'] = df['VEHICLE TYPE'].replace(['23'],'STREET CAR')"
   ]
  },
  {
   "cell_type": "code",
   "execution_count": 103,
   "metadata": {},
   "outputs": [],
   "source": [
    "df['PERSON POSITION'] = df['PERSON POSITION'].replace(['11'],'DRIVER')"
   ]
  },
  {
   "cell_type": "code",
   "execution_count": 104,
   "metadata": {},
   "outputs": [],
   "source": [
    "df['PERSON POSITION'] = df['PERSON POSITION'].replace(['12'],'FRONT,CENTER')"
   ]
  },
  {
   "cell_type": "code",
   "execution_count": 105,
   "metadata": {},
   "outputs": [],
   "source": [
    "df['PERSON POSITION'] = df['PERSON POSITION'].replace(['13'],'FRONT PASSENGER')"
   ]
  },
  {
   "cell_type": "code",
   "execution_count": 106,
   "metadata": {},
   "outputs": [],
   "source": [
    "df['PERSON POSITION'] = df['PERSON POSITION'].replace(['21'],'SECOND ROW,LEFT')"
   ]
  },
  {
   "cell_type": "code",
   "execution_count": 107,
   "metadata": {},
   "outputs": [],
   "source": [
    "df['PERSON POSITION'] = df['PERSON POSITION'].replace(['22'],'SECOND ROW,CENTER')"
   ]
  },
  {
   "cell_type": "code",
   "execution_count": 108,
   "metadata": {},
   "outputs": [],
   "source": [
    "df['PERSON POSITION'] = df['PERSON POSITION'].replace(['23'],'SECOND ROW,RIGHT')"
   ]
  },
  {
   "cell_type": "code",
   "execution_count": 109,
   "metadata": {},
   "outputs": [],
   "source": [
    "df['PERSON POSITION'] = df['PERSON POSITION'].replace(['31'],'THIRD ROW,LEFT')"
   ]
  },
  {
   "cell_type": "code",
   "execution_count": 110,
   "metadata": {},
   "outputs": [],
   "source": [
    "df['PERSON POSITION'] = df['PERSON POSITION'].replace(['32'],'THIRD ROW,CENTER')"
   ]
  },
  {
   "cell_type": "code",
   "execution_count": 111,
   "metadata": {},
   "outputs": [],
   "source": [
    "df['PERSON POSITION'] = df['PERSON POSITION'].replace(['33'],'THIRD ROW,RIGHT')"
   ]
  },
  {
   "cell_type": "code",
   "execution_count": 112,
   "metadata": {},
   "outputs": [],
   "source": [
    "df['PERSON POSITION'] = df['PERSON POSITION'].replace(['96'],'UNKNOWN')"
   ]
  },
  {
   "cell_type": "code",
   "execution_count": 113,
   "metadata": {},
   "outputs": [],
   "source": [
    "df['PERSON POSITION'] = df['PERSON POSITION'].replace(['97'],'SITTING ON LAP')"
   ]
  },
  {
   "cell_type": "code",
   "execution_count": 114,
   "metadata": {},
   "outputs": [],
   "source": [
    "df['PERSON POSITION'] = df['PERSON POSITION'].replace(['98'],'OUTSIDE')"
   ]
  },
  {
   "cell_type": "code",
   "execution_count": 115,
   "metadata": {},
   "outputs": [],
   "source": [
    "df['PERSON POSITION'] = df['PERSON POSITION'].replace(['99'],'PEDESTRIAN')"
   ]
  },
  {
   "cell_type": "code",
   "execution_count": 118,
   "metadata": {},
   "outputs": [],
   "source": [
    "# Add new column based on single condition:\n",
    "df['FATALITY'] = np.where(df['SEVERITY']==1, 1, 0)"
   ]
  },
  {
   "cell_type": "code",
   "execution_count": 119,
   "metadata": {},
   "outputs": [],
   "source": [
    "df.drop(['SEVERITY'], axis=1, inplace=True)"
   ]
  },
  {
   "cell_type": "code",
   "execution_count": 120,
   "metadata": {},
   "outputs": [
    {
     "data": {
      "text/html": [
       "<div>\n",
       "<style scoped>\n",
       "    .dataframe tbody tr th:only-of-type {\n",
       "        vertical-align: middle;\n",
       "    }\n",
       "\n",
       "    .dataframe tbody tr th {\n",
       "        vertical-align: top;\n",
       "    }\n",
       "\n",
       "    .dataframe thead th {\n",
       "        text-align: right;\n",
       "    }\n",
       "</style>\n",
       "<table border=\"1\" class=\"dataframe\">\n",
       "  <thead>\n",
       "    <tr style=\"text-align: right;\">\n",
       "      <th></th>\n",
       "      <th>YEAR</th>\n",
       "      <th>MNTH</th>\n",
       "      <th>DAY</th>\n",
       "      <th>TIME</th>\n",
       "      <th>Collision CONF.</th>\n",
       "      <th>WEATHER</th>\n",
       "      <th>RD. SURFACE</th>\n",
       "      <th>VEHICLE TYPE</th>\n",
       "      <th>GENDER</th>\n",
       "      <th>AGE</th>\n",
       "      <th>PERSON POSITION</th>\n",
       "      <th>FATALITY</th>\n",
       "    </tr>\n",
       "  </thead>\n",
       "  <tbody>\n",
       "    <tr>\n",
       "      <th>0</th>\n",
       "      <td>1999</td>\n",
       "      <td>1</td>\n",
       "      <td>Mon</td>\n",
       "      <td>20</td>\n",
       "      <td>TWO_VEHICLE_OPP_DIR</td>\n",
       "      <td>SUNNY</td>\n",
       "      <td>ICY</td>\n",
       "      <td>CARGO VAN</td>\n",
       "      <td>M</td>\n",
       "      <td>41</td>\n",
       "      <td>DRIVER</td>\n",
       "      <td>0</td>\n",
       "    </tr>\n",
       "    <tr>\n",
       "      <th>1</th>\n",
       "      <td>1999</td>\n",
       "      <td>1</td>\n",
       "      <td>Mon</td>\n",
       "      <td>20</td>\n",
       "      <td>TWO_VEHICLE_OPP_DIR</td>\n",
       "      <td>SUNNY</td>\n",
       "      <td>ICY</td>\n",
       "      <td>LIGHT DUTY</td>\n",
       "      <td>M</td>\n",
       "      <td>19</td>\n",
       "      <td>DRIVER</td>\n",
       "      <td>0</td>\n",
       "    </tr>\n",
       "    <tr>\n",
       "      <th>2</th>\n",
       "      <td>1999</td>\n",
       "      <td>1</td>\n",
       "      <td>Mon</td>\n",
       "      <td>20</td>\n",
       "      <td>TWO_VEHICLE_OPP_DIR</td>\n",
       "      <td>SUNNY</td>\n",
       "      <td>ICY</td>\n",
       "      <td>LIGHT DUTY</td>\n",
       "      <td>F</td>\n",
       "      <td>20</td>\n",
       "      <td>FRONT PASSENGER</td>\n",
       "      <td>0</td>\n",
       "    </tr>\n",
       "    <tr>\n",
       "      <th>3</th>\n",
       "      <td>1999</td>\n",
       "      <td>1</td>\n",
       "      <td>Mon</td>\n",
       "      <td>08</td>\n",
       "      <td>SINGLE_VEHICLE</td>\n",
       "      <td>FREEZING RAIN/HAIL</td>\n",
       "      <td>SNOW</td>\n",
       "      <td>LIGHT DUTY</td>\n",
       "      <td>M</td>\n",
       "      <td>46</td>\n",
       "      <td>DRIVER</td>\n",
       "      <td>0</td>\n",
       "    </tr>\n",
       "    <tr>\n",
       "      <th>9</th>\n",
       "      <td>1999</td>\n",
       "      <td>1</td>\n",
       "      <td>Mon</td>\n",
       "      <td>15</td>\n",
       "      <td>SINGLE_VEHICLE</td>\n",
       "      <td>SUNNY</td>\n",
       "      <td>ICY</td>\n",
       "      <td>LIGHT DUTY</td>\n",
       "      <td>M</td>\n",
       "      <td>61</td>\n",
       "      <td>DRIVER</td>\n",
       "      <td>0</td>\n",
       "    </tr>\n",
       "  </tbody>\n",
       "</table>\n",
       "</div>"
      ],
      "text/plain": [
       "   YEAR  MNTH  DAY TIME      Collision CONF.             WEATHER RD. SURFACE  \\\n",
       "0  1999     1  Mon   20  TWO_VEHICLE_OPP_DIR               SUNNY         ICY   \n",
       "1  1999     1  Mon   20  TWO_VEHICLE_OPP_DIR               SUNNY         ICY   \n",
       "2  1999     1  Mon   20  TWO_VEHICLE_OPP_DIR               SUNNY         ICY   \n",
       "3  1999     1  Mon   08       SINGLE_VEHICLE  FREEZING RAIN/HAIL        SNOW   \n",
       "9  1999     1  Mon   15       SINGLE_VEHICLE               SUNNY         ICY   \n",
       "\n",
       "  VEHICLE TYPE GENDER  AGE  PERSON POSITION  FATALITY  \n",
       "0    CARGO VAN      M   41           DRIVER         0  \n",
       "1   LIGHT DUTY      M   19           DRIVER         0  \n",
       "2   LIGHT DUTY      F   20  FRONT PASSENGER         0  \n",
       "3   LIGHT DUTY      M   46           DRIVER         0  \n",
       "9   LIGHT DUTY      M   61           DRIVER         0  "
      ]
     },
     "execution_count": 120,
     "metadata": {},
     "output_type": "execute_result"
    }
   ],
   "source": [
    "df.head()"
   ]
  },
  {
   "cell_type": "code",
   "execution_count": 121,
   "metadata": {},
   "outputs": [],
   "source": [
    "#saving cleaned dataset as csv, to be used in powerBI\n",
    "df.to_csv (r'C:\\Users\\fawad\\Desktop\\datasets\\analysis.csv', header='true')"
   ]
  }
 ],
 "metadata": {
  "kernelspec": {
   "display_name": "Python 3",
   "language": "python",
   "name": "python3"
  },
  "language_info": {
   "codemirror_mode": {
    "name": "ipython",
    "version": 3
   },
   "file_extension": ".py",
   "mimetype": "text/x-python",
   "name": "python",
   "nbconvert_exporter": "python",
   "pygments_lexer": "ipython3",
   "version": "3.7.6"
  }
 },
 "nbformat": 4,
 "nbformat_minor": 4
}
